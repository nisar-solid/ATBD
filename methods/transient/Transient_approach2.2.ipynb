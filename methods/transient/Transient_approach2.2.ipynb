{
 "cells": [
  {
   "cell_type": "code",
   "execution_count": null,
   "id": "8e59dd29-5107-472d-8303-7baa9455b9b1",
   "metadata": {},
   "outputs": [],
   "source": [
    "import numpy as np\n",
    "import pickle\n",
    "from pathlib import Path\n",
    "import pandas as pd\n",
    "from scipy.stats import chi2\n",
    "from matplotlib import pyplot as plt"
   ]
  },
  {
   "cell_type": "markdown",
   "id": "2951a3a2-19ef-4a4b-82e9-0d0dcf688162",
   "metadata": {},
   "source": [
    "In every bin, each data point is treated as sample of normal distribution $N(0,\\sigma)$, so this is a interval estimation problem. The point estimation of $\\sigma^2$ is\n",
    "$$\\frac{\\sum_1^n x_i^2}{n}$$\n",
    "In essence, this point estimation can be seen as emperical semivariogram since semivariogram is defined as\n",
    "$$E(f(x)-f(x-r))^2$$\n",
    "The confidence lower-bound is\n",
    "$$\\frac{\\sum_1^n x_i^2}{\\chi_n^2(1-\\alpha)}$$\n",
    "where $x$ is the sample, $1-\\alpha$ is the confidence level.\n",
    "If the confidence lower-bound is larger than $(3(1+L^{1/2}))^2$, we can say we have at least $1-\\alpha$'s confidence to say the real $\\sigma$ is larger than the $(3(1+L^{1/2}))^2$.\n",
    "https://faculty.elgin.edu/dkernler/statistics/ch09/9-3.html is a reference of the statistics method used here.\n",
    "\n",
    "This lower-bound can be also understanded in the hypothetical test's manner.\n",
    "We define null hypotheis as $\\sigma^2 <= \\sigma_0^2 $. $\\sigma_0^2$ is the value by the requirement curve. We will reject this null hypotheis if the samples show this hypotheis is wrong with great confidence.\n",
    "\n",
    "The test is defined as: If $\\sum_1^n x_i^2 > C$, we reject the null hypothesis.\n",
    "\n",
    "By statistical analysis, if we define $C = \\chi_n^2(1-\\alpha)\\sigma_0^2$, the significance level is equal to $1-\\alpha$."
   ]
  },
  {
   "cell_type": "markdown",
   "id": "321956d7-ddac-4325-8a07-6a7fdd3cacae",
   "metadata": {},
   "source": [
    "The critria is:\n",
    "1. If less than `mratio` percent of bins fail to reject the hypotheis and\n",
    "2. The mean of relative deviation $$(\\frac{\\sum_1^n x_i^2}{\\chi_n^2(1-\\alpha)}-\\sigma_0^2)/\\sigma_0^2$$ in each failed bins less than `mdev`,\n",
    "we can say this interferogram pass the test."
   ]
  },
  {
   "cell_type": "code",
   "execution_count": null,
   "id": "324d99d8-7171-46e3-8069-8f9f67e6c02a",
   "metadata": {},
   "outputs": [],
   "source": [
    "# Set Parameters\n",
    "n_bins = 100 # number of bins\n",
    "mratio = 0.3\n",
    "mdev = 0.3"
   ]
  },
  {
   "cell_type": "code",
   "execution_count": null,
   "id": "26d85ec3-eb91-4d7c-b4dc-7037da57b42b",
   "metadata": {},
   "outputs": [],
   "source": [
    "calval_dir = Path.cwd()/'calval'\n",
    "calval_location = 'central_valley'\n",
    "# calval_location = 'texas'\n",
    "# calval_location = 'oklahoma'\n",
    "# calval_location = 'purtorico'\n",
    "work_dir = calval_dir/calval_location"
   ]
  },
  {
   "cell_type": "code",
   "execution_count": null,
   "id": "1535d1a0-ffe7-4828-b82d-7c4844d46a13",
   "metadata": {},
   "outputs": [],
   "source": [
    "with open(work_dir/'approach2.pkl','rb') as f:\n",
    "    dist,rel_measure, ifgs_date = pickle.load(f)"
   ]
  },
  {
   "cell_type": "code",
   "execution_count": null,
   "id": "7d7dccf1-7080-4066-899b-569e5c7ff8aa",
   "metadata": {},
   "outputs": [],
   "source": [
    "n_ifgs = len(dist)"
   ]
  },
  {
   "cell_type": "code",
   "execution_count": null,
   "id": "53e76547-f240-4de2-8106-6e8b9d78723d",
   "metadata": {},
   "outputs": [],
   "source": [
    "bins = np.linspace(0.1,50.0,num=n_bins+1)\n",
    "bins_interval = bins[1:] - bins[:-1]\n",
    "bins_center = bins[:-1]+bins_interval/2"
   ]
  },
  {
   "cell_type": "code",
   "execution_count": null,
   "id": "e25babeb-7e69-4928-80e1-1abe01161cee",
   "metadata": {},
   "outputs": [],
   "source": [
    "alpha = 0.05"
   ]
  },
  {
   "cell_type": "code",
   "execution_count": null,
   "id": "1775feac-0484-46e0-bee2-3a6f8ad6de96",
   "metadata": {},
   "outputs": [],
   "source": [
    "n_all = np.empty([n_ifgs,n_bins+1],dtype=int) # number of points for each ifgs and bins\n",
    "lowbound = np.empty([n_ifgs,n_bins])\n",
    "est = np.empty([n_ifgs,n_bins])\n",
    "rqmt = (3*(1+np.sqrt(bins_center)))**2 # square of the curve\n",
    "for i in range(n_ifgs):\n",
    "    inds = np.digitize(dist[i],bins)\n",
    "    for j in range(1,n_bins+1):\n",
    "        rem = rel_measure[i][inds==j] # relative measurement for each bin\n",
    "        len_rem = len(rem)\n",
    "        n_all[i,j-1] = len_rem\n",
    "        lowbound[i,j-1] = sum(rem**2)/chi2.ppf(1-alpha,df=len_rem)\n",
    "        est[i,j-1] = sum(rem**2)/len_rem\n",
    "        \n",
    "    n_all[i,-1] = np.sum(n_all[i,0:-2])"
   ]
  },
  {
   "cell_type": "code",
   "execution_count": null,
   "id": "3e4a5039-89f6-4614-b810-0fc50db3ae2b",
   "metadata": {},
   "outputs": [],
   "source": [
    "def to_str(x:bool):\n",
    "    if x==True:\n",
    "        return 'true '\n",
    "    elif x==False:\n",
    "        return 'false '"
   ]
  },
  {
   "cell_type": "code",
   "execution_count": null,
   "id": "56755a35-46c2-4244-bf1b-4fc4b6990f15",
   "metadata": {
    "tags": []
   },
   "outputs": [],
   "source": [
    "# for i in range(n_ifgs):\n",
    "#     fig, ax = plt.subplots(figsize=[18, 5.5])\n",
    "#     ax.plot(bins_center,rqmt,'r')\n",
    "#     ax.scatter(bins_center,est[i],c='yellow')\n",
    "#     ax.scatter(bins_center,lowbound[i],c='green')\n",
    "\n",
    "#     ax.set_xlabel('Distance (km)')\n",
    "#     ax.set_ylabel(r'$\\sigma^2$ ($mm^2$)')\n",
    "#     plt.legend([\"Mission Requirement\",\"Estimated\",\"Lower Bound\"])"
   ]
  },
  {
   "cell_type": "code",
   "execution_count": null,
   "id": "75a75a96-c2b3-4f09-bb46-57cb1186e268",
   "metadata": {
    "tags": []
   },
   "outputs": [],
   "source": [
    "dev = (lowbound-rqmt)/rqmt\n",
    "success_or_fail = dev < 0.0"
   ]
  },
  {
   "cell_type": "code",
   "execution_count": null,
   "id": "73c52814-4071-4869-bd5b-f69ddd8aa189",
   "metadata": {},
   "outputs": [],
   "source": [
    "n_pos = np.empty(n_ifgs)\n",
    "mean_dev = np.empty(n_ifgs)\n",
    "success_or_fail_total = np.empty(n_ifgs,dtype=bool)\n",
    "for i in range(n_ifgs):\n",
    "    dev_i = dev[i]\n",
    "    dev_i_pos = dev_i[dev_i>=0.0]\n",
    "    n_pos[i] = len(dev_i_pos)\n",
    "    if n_pos[i] == 0:\n",
    "        mean_dev[i] = 0.0\n",
    "    else:\n",
    "        mean_dev[i] = dev_i_pos.mean()\n",
    "    if n_pos[i]<n_bins*mratio and mean_dev[i] < mdev:\n",
    "        success_or_fail_total[i] = True\n",
    "    else:\n",
    "        success_or_fail_total[i] = False"
   ]
  },
  {
   "cell_type": "code",
   "execution_count": null,
   "id": "38929e4d-63b5-4429-9cdb-82ced50f7e31",
   "metadata": {
    "tags": []
   },
   "outputs": [],
   "source": [
    "success_or_fail_total_2d = np.array([success_or_fail_total])\n",
    "mean_dev = np.array([mean_dev])\n",
    "success_or_fail = np.hstack((success_or_fail,success_or_fail_total_2d.T))\n",
    "dev = np.hstack((dev,mean_dev.T))\n",
    "success_or_fail_str = [list(map(to_str, x)) for x in success_or_fail]"
   ]
  },
  {
   "cell_type": "code",
   "execution_count": null,
   "id": "c543e4c0-31ad-4e46-bd4e-35497a10a93e",
   "metadata": {},
   "outputs": [],
   "source": [
    "columns = []\n",
    "for i in range(n_bins):\n",
    "    columns.append(f'{bins[i]:.2f}-{bins[i+1]:.2f}')\n",
    "columns.append('mean')"
   ]
  },
  {
   "cell_type": "code",
   "execution_count": null,
   "id": "d7f5f5d1-baaf-48fd-b88e-169dc5aff3a4",
   "metadata": {},
   "outputs": [],
   "source": [
    "index = []\n",
    "for i in range(len(ifgs_date)):\n",
    "    index.append(ifgs_date[i,0].strftime('%Y%m%d')+'-'+ifgs_date[i,1].strftime('%Y%m%d'))"
   ]
  },
  {
   "cell_type": "code",
   "execution_count": null,
   "id": "39634f26-581e-44f8-9d83-bec32dbd47e5",
   "metadata": {},
   "outputs": [],
   "source": [
    "dev_pd = pd.DataFrame(dev,columns=columns,index=index)\n",
    "success_or_fail_pd = pd.DataFrame(success_or_fail_str,columns=columns,index=index)"
   ]
  },
  {
   "cell_type": "code",
   "execution_count": null,
   "id": "9a116868-739e-4174-8c00-3a99d1672de7",
   "metadata": {
    "tags": []
   },
   "outputs": [],
   "source": [
    "s = dev_pd.style\n",
    "s.set_table_styles([  # create internal CSS classes\n",
    "    {'selector': '.true', 'props': 'background-color: #e6ffe6;'},\n",
    "    {'selector': '.false', 'props': 'background-color: #ffe6e6;'},\n",
    "], overwrite=False)\n",
    "s.set_td_classes(success_or_fail_pd)"
   ]
  },
  {
   "cell_type": "markdown",
   "id": "ee0355a1-445a-4821-96f7-45ba5aed989c",
   "metadata": {},
   "source": [
    "Percentage of interferograms passes the requirement (significant level = 0.95):"
   ]
  },
  {
   "cell_type": "code",
   "execution_count": null,
   "id": "fcf68892-bf0c-43d8-9b24-e4f298d81994",
   "metadata": {},
   "outputs": [],
   "source": [
    "np.count_nonzero(success_or_fail_total)/len(success_or_fail_total)"
   ]
  },
  {
   "cell_type": "markdown",
   "id": "8ba61099-8e1c-4435-a9b3-d79c3aecacd2",
   "metadata": {},
   "source": [
    "**Note**: some low-distance bins are rejected by approach 2.2 but not rejected by 2.1. For example, first bin of central valley 20190122-20190203, 78 percent of points are under the curve but rejected by approach 2.2.\n",
    "\n",
    "The most potential reason is: for low-distance bins, the variation of the mission requirement is significant so it is not appropriate to assume points in these bins obey the same distribution.\n",
    "\n",
    "I increase the number of bins to 50 and find the percentage of accepted interferograms by approach 2.2 increases to around 0.8 which is 0.76 before. But the phenomenon still exist. As for approach 2.1, no significant difference."
   ]
  },
  {
   "cell_type": "code",
   "execution_count": null,
   "id": "f3b69f9f-8599-4847-9043-914a1a2e9215",
   "metadata": {},
   "outputs": [],
   "source": []
  }
 ],
 "metadata": {
  "kernelspec": {
   "display_name": "Python 3",
   "language": "python",
   "name": "python3"
  },
  "language_info": {
   "codemirror_mode": {
    "name": "ipython",
    "version": 3
   },
   "file_extension": ".py",
   "mimetype": "text/x-python",
   "name": "python",
   "nbconvert_exporter": "python",
   "pygments_lexer": "ipython3",
   "version": "3.8.12"
  }
 },
 "nbformat": 4,
 "nbformat_minor": 5
}
