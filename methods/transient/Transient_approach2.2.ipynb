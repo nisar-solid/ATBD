{
 "cells": [
  {
   "cell_type": "markdown",
   "id": "e2a265f8-6056-4d26-9bc8-9072a8bc99fd",
   "metadata": {},
   "source": [
    "This is the second method of Approach 2 for Transient Requirement validation (Section 4.2.2). Users need to read and run [Transient_base.ipynb](./Transient_base.ipynb) before reading and runing this notebook."
   ]
  },
  {
   "cell_type": "code",
   "execution_count": 1,
   "id": "8e59dd29-5107-472d-8303-7baa9455b9b1",
   "metadata": {},
   "outputs": [],
   "source": [
    "import numpy as np\n",
    "import pickle\n",
    "from pathlib import Path\n",
    "import pandas as pd\n",
    "from scipy.stats import chi2\n",
    "from matplotlib import pyplot as plt"
   ]
  },
  {
   "cell_type": "markdown",
   "id": "8f4d786b-f6ce-4a1e-8795-41e2bc1e4543",
   "metadata": {},
   "source": [
    "For the second method we apply to evaluate the noise structure, each data point in every bin is treated as a sample of normal distribution $N(0,\\sigma)$, with $\\sigma$ being the standard deviation. The evaluation of the noise level in this case becomes estimating the $\\sigma^2$: \n",
    "$$\\sigma^2=\\frac{\\Sigma_{i=1}^nd_i^2}{n}$$\n",
    "where $d_i$ is the sampled measurement defined and n is number of data point in the 5-km-wide bin.\n",
    "\n",
    "The estimated $\\sigma^2$ can be treated as an empirical semivariogram, where the semivariogram is defined as \n",
    "$$E[{(f(x)-f(x-r))}^2]$$\n",
    "The lower confidence bound of σ2 is \n",
    "$$\\sigma_{low}^2=\\frac{\\Sigma_{i=1}^nd_i^2}{\\chi_n^2(1-\\alpha)}$$\n",
    "where $(1−\\alpha)$ is the confidence level and $\\chi_n^2$ is the percent point function of a chi-squared distribution with n degrees of freedom. If the lower confidence bound of $\\sigma$ is larger than 2 (mm/yr) (Requirement 558), 4(1+𝐿1/2) (mm) (Requirement 663), or 3(1+𝐿1/2) (mm) (Requirement 663), respectively, we can conclude that, at the $(1−\\alpha)$ confidence level, the $\\sigma$ of the observations is larger than the threshold curve and the measurements fail the requirement in the bin. If 1) less than a certain percentage (e.g., 30%) of bins in the observation fails the requirement  and if 2) the mean value of relative deviation of the lower confidence bound ($\\sigma_{low}$) from the requirement ($\\sigma_0$) in the failed bins,  ${(\\sigma}_{low}^2-\\sigma_0^2)/\\sigma_0^2$, is less than a certain threshold (e.g., 0.3), we judge the observation pass the requirement. "
   ]
  },
  {
   "cell_type": "code",
   "execution_count": 2,
   "id": "324d99d8-7171-46e3-8069-8f9f67e6c02a",
   "metadata": {},
   "outputs": [],
   "source": [
    "# Set Parameters\n",
    "n_bins = 10 # number of bins\n",
    "mratio = 0.3\n",
    "mdev = 0.3"
   ]
  },
  {
   "cell_type": "code",
   "execution_count": 3,
   "id": "26d85ec3-eb91-4d7c-b4dc-7037da57b42b",
   "metadata": {},
   "outputs": [],
   "source": [
    "calval_dir = Path.cwd()/'calval'\n",
    "calval_location = 'central_valley'\n",
    "# calval_location = 'texas'\n",
    "# calval_location = 'oklahoma'\n",
    "# calval_location = 'purtorico'\n",
    "work_dir = calval_dir/calval_location"
   ]
  },
  {
   "cell_type": "code",
   "execution_count": 4,
   "id": "1535d1a0-ffe7-4828-b82d-7c4844d46a13",
   "metadata": {},
   "outputs": [],
   "source": [
    "with open(work_dir/'approach2.pkl','rb') as f:\n",
    "    dist,rel_measure, ifgs_date = pickle.load(f)"
   ]
  },
  {
   "cell_type": "code",
   "execution_count": 5,
   "id": "7d7dccf1-7080-4066-899b-569e5c7ff8aa",
   "metadata": {},
   "outputs": [],
   "source": [
    "n_ifgs = len(dist)"
   ]
  },
  {
   "cell_type": "code",
   "execution_count": 6,
   "id": "53e76547-f240-4de2-8106-6e8b9d78723d",
   "metadata": {},
   "outputs": [],
   "source": [
    "bins = np.linspace(0.1,50.0,num=n_bins+1)\n",
    "bins_interval = bins[1:] - bins[:-1]\n",
    "bins_center = bins[:-1]+bins_interval/2"
   ]
  },
  {
   "cell_type": "code",
   "execution_count": 7,
   "id": "e25babeb-7e69-4928-80e1-1abe01161cee",
   "metadata": {},
   "outputs": [],
   "source": [
    "alpha = 0.05"
   ]
  },
  {
   "cell_type": "code",
   "execution_count": 8,
   "id": "1775feac-0484-46e0-bee2-3a6f8ad6de96",
   "metadata": {},
   "outputs": [],
   "source": [
    "n_all = np.empty([n_ifgs,n_bins+1],dtype=int) # number of points for each ifgs and bins\n",
    "lowbound = np.empty([n_ifgs,n_bins])\n",
    "est = np.empty([n_ifgs,n_bins])\n",
    "rqmt = (3*(1+np.sqrt(bins_center)))**2 # square of the curve\n",
    "for i in range(n_ifgs):\n",
    "    inds = np.digitize(dist[i],bins)\n",
    "    for j in range(1,n_bins+1):\n",
    "        rem = rel_measure[i][inds==j] # relative measurement for each bin\n",
    "        len_rem = len(rem)\n",
    "        n_all[i,j-1] = len_rem\n",
    "        lowbound[i,j-1] = sum(rem**2)/chi2.ppf(1-alpha,df=len_rem)\n",
    "        est[i,j-1] = sum(rem**2)/len_rem\n",
    "        \n",
    "    n_all[i,-1] = np.sum(n_all[i,0:-2])"
   ]
  },
  {
   "cell_type": "code",
   "execution_count": 9,
   "id": "3e4a5039-89f6-4614-b810-0fc50db3ae2b",
   "metadata": {},
   "outputs": [],
   "source": [
    "def to_str(x:bool):\n",
    "    if x==True:\n",
    "        return 'true '\n",
    "    elif x==False:\n",
    "        return 'false '"
   ]
  },
  {
   "cell_type": "code",
   "execution_count": 10,
   "id": "56755a35-46c2-4244-bf1b-4fc4b6990f15",
   "metadata": {
    "tags": []
   },
   "outputs": [],
   "source": [
    "# for i in range(n_ifgs):\n",
    "#     fig, ax = plt.subplots(figsize=[18, 5.5])\n",
    "#     ax.plot(bins_center,rqmt,'r')\n",
    "#     ax.scatter(bins_center,est[i],c='yellow')\n",
    "#     ax.scatter(bins_center,lowbound[i],c='green')\n",
    "\n",
    "#     ax.set_xlabel('Distance (km)')\n",
    "#     ax.set_ylabel(r'$\\sigma^2$ ($mm^2$)')\n",
    "#     plt.legend([\"Mission Requirement\",\"Estimated\",\"Lower Bound\"])"
   ]
  },
  {
   "cell_type": "code",
   "execution_count": 11,
   "id": "75a75a96-c2b3-4f09-bb46-57cb1186e268",
   "metadata": {
    "tags": []
   },
   "outputs": [],
   "source": [
    "dev = (lowbound-rqmt)/rqmt\n",
    "success_or_fail = dev < 0.0"
   ]
  },
  {
   "cell_type": "code",
   "execution_count": 12,
   "id": "73c52814-4071-4869-bd5b-f69ddd8aa189",
   "metadata": {},
   "outputs": [],
   "source": [
    "n_pos = np.empty(n_ifgs)\n",
    "mean_dev = np.empty(n_ifgs)\n",
    "success_or_fail_total = np.empty(n_ifgs,dtype=bool)\n",
    "for i in range(n_ifgs):\n",
    "    dev_i = dev[i]\n",
    "    dev_i_pos = dev_i[dev_i>=0.0]\n",
    "    n_pos[i] = len(dev_i_pos)\n",
    "    if n_pos[i] == 0:\n",
    "        mean_dev[i] = 0.0\n",
    "    else:\n",
    "        mean_dev[i] = dev_i_pos.mean()\n",
    "    if n_pos[i]<n_bins*mratio and mean_dev[i] < mdev:\n",
    "        success_or_fail_total[i] = True\n",
    "    else:\n",
    "        success_or_fail_total[i] = False"
   ]
  },
  {
   "cell_type": "code",
   "execution_count": 13,
   "id": "38929e4d-63b5-4429-9cdb-82ced50f7e31",
   "metadata": {
    "tags": []
   },
   "outputs": [],
   "source": [
    "success_or_fail_total_2d = np.array([success_or_fail_total])\n",
    "mean_dev = np.array([mean_dev])\n",
    "success_or_fail = np.hstack((success_or_fail,success_or_fail_total_2d.T))\n",
    "dev = np.hstack((dev,mean_dev.T))\n",
    "success_or_fail_str = [list(map(to_str, x)) for x in success_or_fail]"
   ]
  },
  {
   "cell_type": "code",
   "execution_count": 14,
   "id": "c543e4c0-31ad-4e46-bd4e-35497a10a93e",
   "metadata": {},
   "outputs": [],
   "source": [
    "columns = []\n",
    "for i in range(n_bins):\n",
    "    columns.append(f'{bins[i]:.2f}-{bins[i+1]:.2f}')\n",
    "columns.append('mean')"
   ]
  },
  {
   "cell_type": "code",
   "execution_count": 15,
   "id": "d7f5f5d1-baaf-48fd-b88e-169dc5aff3a4",
   "metadata": {},
   "outputs": [],
   "source": [
    "index = []\n",
    "for i in range(len(ifgs_date)):\n",
    "    index.append(ifgs_date[i,0].strftime('%Y%m%d')+'-'+ifgs_date[i,1].strftime('%Y%m%d'))"
   ]
  },
  {
   "cell_type": "code",
   "execution_count": 16,
   "id": "39634f26-581e-44f8-9d83-bec32dbd47e5",
   "metadata": {},
   "outputs": [],
   "source": [
    "dev_pd = pd.DataFrame(dev,columns=columns,index=index)\n",
    "success_or_fail_pd = pd.DataFrame(success_or_fail_str,columns=columns,index=index)"
   ]
  },
  {
   "cell_type": "code",
   "execution_count": 17,
   "id": "9a116868-739e-4174-8c00-3a99d1672de7",
   "metadata": {
    "tags": []
   },
   "outputs": [
    {
     "data": {
      "text/html": [
       "<style type=\"text/css\">\n",
       "#T_49ebe .true {\n",
       "  background-color: #e6ffe6;\n",
       "}\n",
       "#T_49ebe .false {\n",
       "  background-color: #ffe6e6;\n",
       "}\n",
       "</style>\n",
       "<table id=\"T_49ebe\">\n",
       "  <thead>\n",
       "    <tr>\n",
       "      <th class=\"blank level0\" >&nbsp;</th>\n",
       "      <th id=\"T_49ebe_level0_col0\" class=\"col_heading level0 col0\" >0.10-5.09</th>\n",
       "      <th id=\"T_49ebe_level0_col1\" class=\"col_heading level0 col1\" >5.09-10.08</th>\n",
       "      <th id=\"T_49ebe_level0_col2\" class=\"col_heading level0 col2\" >10.08-15.07</th>\n",
       "      <th id=\"T_49ebe_level0_col3\" class=\"col_heading level0 col3\" >15.07-20.06</th>\n",
       "      <th id=\"T_49ebe_level0_col4\" class=\"col_heading level0 col4\" >20.06-25.05</th>\n",
       "      <th id=\"T_49ebe_level0_col5\" class=\"col_heading level0 col5\" >25.05-30.04</th>\n",
       "      <th id=\"T_49ebe_level0_col6\" class=\"col_heading level0 col6\" >30.04-35.03</th>\n",
       "      <th id=\"T_49ebe_level0_col7\" class=\"col_heading level0 col7\" >35.03-40.02</th>\n",
       "      <th id=\"T_49ebe_level0_col8\" class=\"col_heading level0 col8\" >40.02-45.01</th>\n",
       "      <th id=\"T_49ebe_level0_col9\" class=\"col_heading level0 col9\" >45.01-50.00</th>\n",
       "      <th id=\"T_49ebe_level0_col10\" class=\"col_heading level0 col10\" >mean</th>\n",
       "    </tr>\n",
       "  </thead>\n",
       "  <tbody>\n",
       "    <tr>\n",
       "      <th id=\"T_49ebe_level0_row0\" class=\"row_heading level0 row0\" >20190110-20190122</th>\n",
       "      <td id=\"T_49ebe_row0_col0\" class=\"data row0 col0 false \" >0.042383</td>\n",
       "      <td id=\"T_49ebe_row0_col1\" class=\"data row0 col1 true \" >-0.032520</td>\n",
       "      <td id=\"T_49ebe_row0_col2\" class=\"data row0 col2 true \" >-0.247413</td>\n",
       "      <td id=\"T_49ebe_row0_col3\" class=\"data row0 col3 true \" >-0.345100</td>\n",
       "      <td id=\"T_49ebe_row0_col4\" class=\"data row0 col4 true \" >-0.373684</td>\n",
       "      <td id=\"T_49ebe_row0_col5\" class=\"data row0 col5 true \" >-0.451678</td>\n",
       "      <td id=\"T_49ebe_row0_col6\" class=\"data row0 col6 true \" >-0.505772</td>\n",
       "      <td id=\"T_49ebe_row0_col7\" class=\"data row0 col7 true \" >-0.527438</td>\n",
       "      <td id=\"T_49ebe_row0_col8\" class=\"data row0 col8 true \" >-0.555006</td>\n",
       "      <td id=\"T_49ebe_row0_col9\" class=\"data row0 col9 true \" >-0.564697</td>\n",
       "      <td id=\"T_49ebe_row0_col10\" class=\"data row0 col10 true \" >0.042383</td>\n",
       "    </tr>\n",
       "    <tr>\n",
       "      <th id=\"T_49ebe_level0_row1\" class=\"row_heading level0 row1\" >20190203-20190215</th>\n",
       "      <td id=\"T_49ebe_row1_col0\" class=\"data row1 col0 false \" >1.463200</td>\n",
       "      <td id=\"T_49ebe_row1_col1\" class=\"data row1 col1 false \" >0.679687</td>\n",
       "      <td id=\"T_49ebe_row1_col2\" class=\"data row1 col2 false \" >0.376860</td>\n",
       "      <td id=\"T_49ebe_row1_col3\" class=\"data row1 col3 false \" >0.223452</td>\n",
       "      <td id=\"T_49ebe_row1_col4\" class=\"data row1 col4 false \" >0.087698</td>\n",
       "      <td id=\"T_49ebe_row1_col5\" class=\"data row1 col5 false \" >0.020041</td>\n",
       "      <td id=\"T_49ebe_row1_col6\" class=\"data row1 col6 false \" >0.001101</td>\n",
       "      <td id=\"T_49ebe_row1_col7\" class=\"data row1 col7 true \" >-0.031803</td>\n",
       "      <td id=\"T_49ebe_row1_col8\" class=\"data row1 col8 true \" >-0.067558</td>\n",
       "      <td id=\"T_49ebe_row1_col9\" class=\"data row1 col9 true \" >-0.059585</td>\n",
       "      <td id=\"T_49ebe_row1_col10\" class=\"data row1 col10 false \" >0.407434</td>\n",
       "    </tr>\n",
       "    <tr>\n",
       "      <th id=\"T_49ebe_level0_row2\" class=\"row_heading level0 row2\" >20190227-20190311</th>\n",
       "      <td id=\"T_49ebe_row2_col0\" class=\"data row2 col0 false \" >0.490405</td>\n",
       "      <td id=\"T_49ebe_row2_col1\" class=\"data row2 col1 false \" >0.310682</td>\n",
       "      <td id=\"T_49ebe_row2_col2\" class=\"data row2 col2 false \" >0.106240</td>\n",
       "      <td id=\"T_49ebe_row2_col3\" class=\"data row2 col3 false \" >0.047188</td>\n",
       "      <td id=\"T_49ebe_row2_col4\" class=\"data row2 col4 false \" >0.035494</td>\n",
       "      <td id=\"T_49ebe_row2_col5\" class=\"data row2 col5 false \" >0.001446</td>\n",
       "      <td id=\"T_49ebe_row2_col6\" class=\"data row2 col6 true \" >-0.013496</td>\n",
       "      <td id=\"T_49ebe_row2_col7\" class=\"data row2 col7 true \" >-0.019339</td>\n",
       "      <td id=\"T_49ebe_row2_col8\" class=\"data row2 col8 true \" >-0.015103</td>\n",
       "      <td id=\"T_49ebe_row2_col9\" class=\"data row2 col9 true \" >-0.020117</td>\n",
       "      <td id=\"T_49ebe_row2_col10\" class=\"data row2 col10 false \" >0.165243</td>\n",
       "    </tr>\n",
       "    <tr>\n",
       "      <th id=\"T_49ebe_level0_row3\" class=\"row_heading level0 row3\" >20190323-20190404</th>\n",
       "      <td id=\"T_49ebe_row3_col0\" class=\"data row3 col0 true \" >-0.304434</td>\n",
       "      <td id=\"T_49ebe_row3_col1\" class=\"data row3 col1 true \" >-0.346492</td>\n",
       "      <td id=\"T_49ebe_row3_col2\" class=\"data row3 col2 true \" >-0.435029</td>\n",
       "      <td id=\"T_49ebe_row3_col3\" class=\"data row3 col3 true \" >-0.432310</td>\n",
       "      <td id=\"T_49ebe_row3_col4\" class=\"data row3 col4 true \" >-0.391696</td>\n",
       "      <td id=\"T_49ebe_row3_col5\" class=\"data row3 col5 true \" >-0.426640</td>\n",
       "      <td id=\"T_49ebe_row3_col6\" class=\"data row3 col6 true \" >-0.404205</td>\n",
       "      <td id=\"T_49ebe_row3_col7\" class=\"data row3 col7 true \" >-0.425245</td>\n",
       "      <td id=\"T_49ebe_row3_col8\" class=\"data row3 col8 true \" >-0.438744</td>\n",
       "      <td id=\"T_49ebe_row3_col9\" class=\"data row3 col9 true \" >-0.452135</td>\n",
       "      <td id=\"T_49ebe_row3_col10\" class=\"data row3 col10 true \" >0.000000</td>\n",
       "    </tr>\n",
       "    <tr>\n",
       "      <th id=\"T_49ebe_level0_row4\" class=\"row_heading level0 row4\" >20190416-20190428</th>\n",
       "      <td id=\"T_49ebe_row4_col0\" class=\"data row4 col0 false \" >0.263882</td>\n",
       "      <td id=\"T_49ebe_row4_col1\" class=\"data row4 col1 false \" >0.091021</td>\n",
       "      <td id=\"T_49ebe_row4_col2\" class=\"data row4 col2 false \" >0.029934</td>\n",
       "      <td id=\"T_49ebe_row4_col3\" class=\"data row4 col3 true \" >-0.001781</td>\n",
       "      <td id=\"T_49ebe_row4_col4\" class=\"data row4 col4 true \" >-0.052317</td>\n",
       "      <td id=\"T_49ebe_row4_col5\" class=\"data row4 col5 true \" >-0.102073</td>\n",
       "      <td id=\"T_49ebe_row4_col6\" class=\"data row4 col6 true \" >-0.079825</td>\n",
       "      <td id=\"T_49ebe_row4_col7\" class=\"data row4 col7 true \" >-0.081036</td>\n",
       "      <td id=\"T_49ebe_row4_col8\" class=\"data row4 col8 true \" >-0.151585</td>\n",
       "      <td id=\"T_49ebe_row4_col9\" class=\"data row4 col9 true \" >-0.172139</td>\n",
       "      <td id=\"T_49ebe_row4_col10\" class=\"data row4 col10 false \" >0.128279</td>\n",
       "    </tr>\n",
       "    <tr>\n",
       "      <th id=\"T_49ebe_level0_row5\" class=\"row_heading level0 row5\" >20190510-20190522</th>\n",
       "      <td id=\"T_49ebe_row5_col0\" class=\"data row5 col0 false \" >0.595770</td>\n",
       "      <td id=\"T_49ebe_row5_col1\" class=\"data row5 col1 false \" >0.039126</td>\n",
       "      <td id=\"T_49ebe_row5_col2\" class=\"data row5 col2 true \" >-0.002989</td>\n",
       "      <td id=\"T_49ebe_row5_col3\" class=\"data row5 col3 true \" >-0.057040</td>\n",
       "      <td id=\"T_49ebe_row5_col4\" class=\"data row5 col4 true \" >-0.118541</td>\n",
       "      <td id=\"T_49ebe_row5_col5\" class=\"data row5 col5 true \" >-0.153945</td>\n",
       "      <td id=\"T_49ebe_row5_col6\" class=\"data row5 col6 true \" >-0.238424</td>\n",
       "      <td id=\"T_49ebe_row5_col7\" class=\"data row5 col7 true \" >-0.271476</td>\n",
       "      <td id=\"T_49ebe_row5_col8\" class=\"data row5 col8 true \" >-0.314460</td>\n",
       "      <td id=\"T_49ebe_row5_col9\" class=\"data row5 col9 true \" >-0.340247</td>\n",
       "      <td id=\"T_49ebe_row5_col10\" class=\"data row5 col10 false \" >0.317448</td>\n",
       "    </tr>\n",
       "    <tr>\n",
       "      <th id=\"T_49ebe_level0_row6\" class=\"row_heading level0 row6\" >20190603-20190615</th>\n",
       "      <td id=\"T_49ebe_row6_col0\" class=\"data row6 col0 true \" >-0.492431</td>\n",
       "      <td id=\"T_49ebe_row6_col1\" class=\"data row6 col1 true \" >-0.535291</td>\n",
       "      <td id=\"T_49ebe_row6_col2\" class=\"data row6 col2 true \" >-0.452552</td>\n",
       "      <td id=\"T_49ebe_row6_col3\" class=\"data row6 col3 true \" >-0.376812</td>\n",
       "      <td id=\"T_49ebe_row6_col4\" class=\"data row6 col4 true \" >-0.301720</td>\n",
       "      <td id=\"T_49ebe_row6_col5\" class=\"data row6 col5 true \" >-0.289542</td>\n",
       "      <td id=\"T_49ebe_row6_col6\" class=\"data row6 col6 true \" >-0.189077</td>\n",
       "      <td id=\"T_49ebe_row6_col7\" class=\"data row6 col7 true \" >-0.149344</td>\n",
       "      <td id=\"T_49ebe_row6_col8\" class=\"data row6 col8 true \" >-0.115572</td>\n",
       "      <td id=\"T_49ebe_row6_col9\" class=\"data row6 col9 true \" >-0.057741</td>\n",
       "      <td id=\"T_49ebe_row6_col10\" class=\"data row6 col10 true \" >0.000000</td>\n",
       "    </tr>\n",
       "    <tr>\n",
       "      <th id=\"T_49ebe_level0_row7\" class=\"row_heading level0 row7\" >20190627-20190709</th>\n",
       "      <td id=\"T_49ebe_row7_col0\" class=\"data row7 col0 true \" >-0.599747</td>\n",
       "      <td id=\"T_49ebe_row7_col1\" class=\"data row7 col1 true \" >-0.549796</td>\n",
       "      <td id=\"T_49ebe_row7_col2\" class=\"data row7 col2 true \" >-0.482847</td>\n",
       "      <td id=\"T_49ebe_row7_col3\" class=\"data row7 col3 true \" >-0.389619</td>\n",
       "      <td id=\"T_49ebe_row7_col4\" class=\"data row7 col4 true \" >-0.341016</td>\n",
       "      <td id=\"T_49ebe_row7_col5\" class=\"data row7 col5 true \" >-0.262536</td>\n",
       "      <td id=\"T_49ebe_row7_col6\" class=\"data row7 col6 true \" >-0.212853</td>\n",
       "      <td id=\"T_49ebe_row7_col7\" class=\"data row7 col7 true \" >-0.202023</td>\n",
       "      <td id=\"T_49ebe_row7_col8\" class=\"data row7 col8 true \" >-0.166449</td>\n",
       "      <td id=\"T_49ebe_row7_col9\" class=\"data row7 col9 true \" >-0.161948</td>\n",
       "      <td id=\"T_49ebe_row7_col10\" class=\"data row7 col10 true \" >0.000000</td>\n",
       "    </tr>\n",
       "    <tr>\n",
       "      <th id=\"T_49ebe_level0_row8\" class=\"row_heading level0 row8\" >20190721-20190802</th>\n",
       "      <td id=\"T_49ebe_row8_col0\" class=\"data row8 col0 true \" >-0.614176</td>\n",
       "      <td id=\"T_49ebe_row8_col1\" class=\"data row8 col1 true \" >-0.542665</td>\n",
       "      <td id=\"T_49ebe_row8_col2\" class=\"data row8 col2 true \" >-0.505312</td>\n",
       "      <td id=\"T_49ebe_row8_col3\" class=\"data row8 col3 true \" >-0.514986</td>\n",
       "      <td id=\"T_49ebe_row8_col4\" class=\"data row8 col4 true \" >-0.509668</td>\n",
       "      <td id=\"T_49ebe_row8_col5\" class=\"data row8 col5 true \" >-0.509794</td>\n",
       "      <td id=\"T_49ebe_row8_col6\" class=\"data row8 col6 true \" >-0.552287</td>\n",
       "      <td id=\"T_49ebe_row8_col7\" class=\"data row8 col7 true \" >-0.575044</td>\n",
       "      <td id=\"T_49ebe_row8_col8\" class=\"data row8 col8 true \" >-0.599795</td>\n",
       "      <td id=\"T_49ebe_row8_col9\" class=\"data row8 col9 true \" >-0.617556</td>\n",
       "      <td id=\"T_49ebe_row8_col10\" class=\"data row8 col10 true \" >0.000000</td>\n",
       "    </tr>\n",
       "    <tr>\n",
       "      <th id=\"T_49ebe_level0_row9\" class=\"row_heading level0 row9\" >20190814-20190826</th>\n",
       "      <td id=\"T_49ebe_row9_col0\" class=\"data row9 col0 true \" >-0.258049</td>\n",
       "      <td id=\"T_49ebe_row9_col1\" class=\"data row9 col1 true \" >-0.321223</td>\n",
       "      <td id=\"T_49ebe_row9_col2\" class=\"data row9 col2 true \" >-0.187666</td>\n",
       "      <td id=\"T_49ebe_row9_col3\" class=\"data row9 col3 true \" >-0.111148</td>\n",
       "      <td id=\"T_49ebe_row9_col4\" class=\"data row9 col4 true \" >-0.069076</td>\n",
       "      <td id=\"T_49ebe_row9_col5\" class=\"data row9 col5 false \" >0.014469</td>\n",
       "      <td id=\"T_49ebe_row9_col6\" class=\"data row9 col6 false \" >0.032254</td>\n",
       "      <td id=\"T_49ebe_row9_col7\" class=\"data row9 col7 false \" >0.095796</td>\n",
       "      <td id=\"T_49ebe_row9_col8\" class=\"data row9 col8 false \" >0.154068</td>\n",
       "      <td id=\"T_49ebe_row9_col9\" class=\"data row9 col9 false \" >0.124375</td>\n",
       "      <td id=\"T_49ebe_row9_col10\" class=\"data row9 col10 false \" >0.084193</td>\n",
       "    </tr>\n",
       "    <tr>\n",
       "      <th id=\"T_49ebe_level0_row10\" class=\"row_heading level0 row10\" >20190907-20190919</th>\n",
       "      <td id=\"T_49ebe_row10_col0\" class=\"data row10 col0 true \" >-0.304737</td>\n",
       "      <td id=\"T_49ebe_row10_col1\" class=\"data row10 col1 false \" >0.026803</td>\n",
       "      <td id=\"T_49ebe_row10_col2\" class=\"data row10 col2 false \" >0.183292</td>\n",
       "      <td id=\"T_49ebe_row10_col3\" class=\"data row10 col3 false \" >0.148354</td>\n",
       "      <td id=\"T_49ebe_row10_col4\" class=\"data row10 col4 false \" >0.211838</td>\n",
       "      <td id=\"T_49ebe_row10_col5\" class=\"data row10 col5 false \" >0.198882</td>\n",
       "      <td id=\"T_49ebe_row10_col6\" class=\"data row10 col6 false \" >0.127859</td>\n",
       "      <td id=\"T_49ebe_row10_col7\" class=\"data row10 col7 false \" >0.098538</td>\n",
       "      <td id=\"T_49ebe_row10_col8\" class=\"data row10 col8 false \" >0.039368</td>\n",
       "      <td id=\"T_49ebe_row10_col9\" class=\"data row10 col9 false \" >0.003939</td>\n",
       "      <td id=\"T_49ebe_row10_col10\" class=\"data row10 col10 false \" >0.115430</td>\n",
       "    </tr>\n",
       "    <tr>\n",
       "      <th id=\"T_49ebe_level0_row11\" class=\"row_heading level0 row11\" >20191001-20191013</th>\n",
       "      <td id=\"T_49ebe_row11_col0\" class=\"data row11 col0 true \" >-0.592906</td>\n",
       "      <td id=\"T_49ebe_row11_col1\" class=\"data row11 col1 true \" >-0.481886</td>\n",
       "      <td id=\"T_49ebe_row11_col2\" class=\"data row11 col2 true \" >-0.442658</td>\n",
       "      <td id=\"T_49ebe_row11_col3\" class=\"data row11 col3 true \" >-0.422924</td>\n",
       "      <td id=\"T_49ebe_row11_col4\" class=\"data row11 col4 true \" >-0.360855</td>\n",
       "      <td id=\"T_49ebe_row11_col5\" class=\"data row11 col5 true \" >-0.385552</td>\n",
       "      <td id=\"T_49ebe_row11_col6\" class=\"data row11 col6 true \" >-0.359907</td>\n",
       "      <td id=\"T_49ebe_row11_col7\" class=\"data row11 col7 true \" >-0.352437</td>\n",
       "      <td id=\"T_49ebe_row11_col8\" class=\"data row11 col8 true \" >-0.352872</td>\n",
       "      <td id=\"T_49ebe_row11_col9\" class=\"data row11 col9 true \" >-0.356463</td>\n",
       "      <td id=\"T_49ebe_row11_col10\" class=\"data row11 col10 true \" >0.000000</td>\n",
       "    </tr>\n",
       "    <tr>\n",
       "      <th id=\"T_49ebe_level0_row12\" class=\"row_heading level0 row12\" >20191025-20191106</th>\n",
       "      <td id=\"T_49ebe_row12_col0\" class=\"data row12 col0 true \" >-0.867405</td>\n",
       "      <td id=\"T_49ebe_row12_col1\" class=\"data row12 col1 true \" >-0.865129</td>\n",
       "      <td id=\"T_49ebe_row12_col2\" class=\"data row12 col2 true \" >-0.860487</td>\n",
       "      <td id=\"T_49ebe_row12_col3\" class=\"data row12 col3 true \" >-0.851156</td>\n",
       "      <td id=\"T_49ebe_row12_col4\" class=\"data row12 col4 true \" >-0.846458</td>\n",
       "      <td id=\"T_49ebe_row12_col5\" class=\"data row12 col5 true \" >-0.844191</td>\n",
       "      <td id=\"T_49ebe_row12_col6\" class=\"data row12 col6 true \" >-0.834752</td>\n",
       "      <td id=\"T_49ebe_row12_col7\" class=\"data row12 col7 true \" >-0.825100</td>\n",
       "      <td id=\"T_49ebe_row12_col8\" class=\"data row12 col8 true \" >-0.819972</td>\n",
       "      <td id=\"T_49ebe_row12_col9\" class=\"data row12 col9 true \" >-0.812800</td>\n",
       "      <td id=\"T_49ebe_row12_col10\" class=\"data row12 col10 true \" >0.000000</td>\n",
       "    </tr>\n",
       "    <tr>\n",
       "      <th id=\"T_49ebe_level0_row13\" class=\"row_heading level0 row13\" >20191212-20191224</th>\n",
       "      <td id=\"T_49ebe_row13_col0\" class=\"data row13 col0 false \" >0.244490</td>\n",
       "      <td id=\"T_49ebe_row13_col1\" class=\"data row13 col1 true \" >-0.190860</td>\n",
       "      <td id=\"T_49ebe_row13_col2\" class=\"data row13 col2 true \" >-0.190850</td>\n",
       "      <td id=\"T_49ebe_row13_col3\" class=\"data row13 col3 true \" >-0.225280</td>\n",
       "      <td id=\"T_49ebe_row13_col4\" class=\"data row13 col4 true \" >-0.271308</td>\n",
       "      <td id=\"T_49ebe_row13_col5\" class=\"data row13 col5 true \" >-0.185867</td>\n",
       "      <td id=\"T_49ebe_row13_col6\" class=\"data row13 col6 true \" >-0.165960</td>\n",
       "      <td id=\"T_49ebe_row13_col7\" class=\"data row13 col7 true \" >-0.097895</td>\n",
       "      <td id=\"T_49ebe_row13_col8\" class=\"data row13 col8 true \" >-0.063158</td>\n",
       "      <td id=\"T_49ebe_row13_col9\" class=\"data row13 col9 true \" >-0.025919</td>\n",
       "      <td id=\"T_49ebe_row13_col10\" class=\"data row13 col10 true \" >0.244490</td>\n",
       "    </tr>\n",
       "    <tr>\n",
       "      <th id=\"T_49ebe_level0_row14\" class=\"row_heading level0 row14\" >20200105-20200117</th>\n",
       "      <td id=\"T_49ebe_row14_col0\" class=\"data row14 col0 true \" >-0.086442</td>\n",
       "      <td id=\"T_49ebe_row14_col1\" class=\"data row14 col1 true \" >-0.418053</td>\n",
       "      <td id=\"T_49ebe_row14_col2\" class=\"data row14 col2 true \" >-0.506788</td>\n",
       "      <td id=\"T_49ebe_row14_col3\" class=\"data row14 col3 true \" >-0.512641</td>\n",
       "      <td id=\"T_49ebe_row14_col4\" class=\"data row14 col4 true \" >-0.563162</td>\n",
       "      <td id=\"T_49ebe_row14_col5\" class=\"data row14 col5 true \" >-0.548497</td>\n",
       "      <td id=\"T_49ebe_row14_col6\" class=\"data row14 col6 true \" >-0.561603</td>\n",
       "      <td id=\"T_49ebe_row14_col7\" class=\"data row14 col7 true \" >-0.570616</td>\n",
       "      <td id=\"T_49ebe_row14_col8\" class=\"data row14 col8 true \" >-0.556154</td>\n",
       "      <td id=\"T_49ebe_row14_col9\" class=\"data row14 col9 true \" >-0.555498</td>\n",
       "      <td id=\"T_49ebe_row14_col10\" class=\"data row14 col10 true \" >0.000000</td>\n",
       "    </tr>\n",
       "    <tr>\n",
       "      <th id=\"T_49ebe_level0_row15\" class=\"row_heading level0 row15\" >20200129-20200210</th>\n",
       "      <td id=\"T_49ebe_row15_col0\" class=\"data row15 col0 true \" >-0.368066</td>\n",
       "      <td id=\"T_49ebe_row15_col1\" class=\"data row15 col1 true \" >-0.443475</td>\n",
       "      <td id=\"T_49ebe_row15_col2\" class=\"data row15 col2 true \" >-0.501185</td>\n",
       "      <td id=\"T_49ebe_row15_col3\" class=\"data row15 col3 true \" >-0.475854</td>\n",
       "      <td id=\"T_49ebe_row15_col4\" class=\"data row15 col4 true \" >-0.484787</td>\n",
       "      <td id=\"T_49ebe_row15_col5\" class=\"data row15 col5 true \" >-0.465621</td>\n",
       "      <td id=\"T_49ebe_row15_col6\" class=\"data row15 col6 true \" >-0.474310</td>\n",
       "      <td id=\"T_49ebe_row15_col7\" class=\"data row15 col7 true \" >-0.442781</td>\n",
       "      <td id=\"T_49ebe_row15_col8\" class=\"data row15 col8 true \" >-0.443076</td>\n",
       "      <td id=\"T_49ebe_row15_col9\" class=\"data row15 col9 true \" >-0.416817</td>\n",
       "      <td id=\"T_49ebe_row15_col10\" class=\"data row15 col10 true \" >0.000000</td>\n",
       "    </tr>\n",
       "    <tr>\n",
       "      <th id=\"T_49ebe_level0_row16\" class=\"row_heading level0 row16\" >20200222-20200305</th>\n",
       "      <td id=\"T_49ebe_row16_col0\" class=\"data row16 col0 true \" >-0.545271</td>\n",
       "      <td id=\"T_49ebe_row16_col1\" class=\"data row16 col1 true \" >-0.501382</td>\n",
       "      <td id=\"T_49ebe_row16_col2\" class=\"data row16 col2 true \" >-0.470533</td>\n",
       "      <td id=\"T_49ebe_row16_col3\" class=\"data row16 col3 true \" >-0.419336</td>\n",
       "      <td id=\"T_49ebe_row16_col4\" class=\"data row16 col4 true \" >-0.415478</td>\n",
       "      <td id=\"T_49ebe_row16_col5\" class=\"data row16 col5 true \" >-0.390620</td>\n",
       "      <td id=\"T_49ebe_row16_col6\" class=\"data row16 col6 true \" >-0.385324</td>\n",
       "      <td id=\"T_49ebe_row16_col7\" class=\"data row16 col7 true \" >-0.385821</td>\n",
       "      <td id=\"T_49ebe_row16_col8\" class=\"data row16 col8 true \" >-0.367321</td>\n",
       "      <td id=\"T_49ebe_row16_col9\" class=\"data row16 col9 true \" >-0.353729</td>\n",
       "      <td id=\"T_49ebe_row16_col10\" class=\"data row16 col10 true \" >0.000000</td>\n",
       "    </tr>\n",
       "    <tr>\n",
       "      <th id=\"T_49ebe_level0_row17\" class=\"row_heading level0 row17\" >20210628-20210710</th>\n",
       "      <td id=\"T_49ebe_row17_col0\" class=\"data row17 col0 true \" >-0.681885</td>\n",
       "      <td id=\"T_49ebe_row17_col1\" class=\"data row17 col1 true \" >-0.616530</td>\n",
       "      <td id=\"T_49ebe_row17_col2\" class=\"data row17 col2 true \" >-0.548077</td>\n",
       "      <td id=\"T_49ebe_row17_col3\" class=\"data row17 col3 true \" >-0.504204</td>\n",
       "      <td id=\"T_49ebe_row17_col4\" class=\"data row17 col4 true \" >-0.463638</td>\n",
       "      <td id=\"T_49ebe_row17_col5\" class=\"data row17 col5 true \" >-0.444338</td>\n",
       "      <td id=\"T_49ebe_row17_col6\" class=\"data row17 col6 true \" >-0.453153</td>\n",
       "      <td id=\"T_49ebe_row17_col7\" class=\"data row17 col7 true \" >-0.449921</td>\n",
       "      <td id=\"T_49ebe_row17_col8\" class=\"data row17 col8 true \" >-0.434979</td>\n",
       "      <td id=\"T_49ebe_row17_col9\" class=\"data row17 col9 true \" >-0.433222</td>\n",
       "      <td id=\"T_49ebe_row17_col10\" class=\"data row17 col10 true \" >0.000000</td>\n",
       "    </tr>\n",
       "  </tbody>\n",
       "</table>\n"
      ],
      "text/plain": [
       "<pandas.io.formats.style.Styler at 0x2aabf26a1cd0>"
      ]
     },
     "execution_count": 17,
     "metadata": {},
     "output_type": "execute_result"
    }
   ],
   "source": [
    "s = dev_pd.style\n",
    "s.set_table_styles([  # create internal CSS classes\n",
    "    {'selector': '.true', 'props': 'background-color: #e6ffe6;'},\n",
    "    {'selector': '.false', 'props': 'background-color: #ffe6e6;'},\n",
    "], overwrite=False)\n",
    "s.set_td_classes(success_or_fail_pd)"
   ]
  },
  {
   "cell_type": "markdown",
   "id": "ee0355a1-445a-4821-96f7-45ba5aed989c",
   "metadata": {},
   "source": [
    "Percentage of interferograms passes the requirement (significant level = 0.95):"
   ]
  },
  {
   "cell_type": "code",
   "execution_count": 18,
   "id": "fcf68892-bf0c-43d8-9b24-e4f298d81994",
   "metadata": {},
   "outputs": [
    {
     "data": {
      "text/plain": [
       "0.6666666666666666"
      ]
     },
     "execution_count": 18,
     "metadata": {},
     "output_type": "execute_result"
    }
   ],
   "source": [
    "np.count_nonzero(success_or_fail_total)/len(success_or_fail_total)"
   ]
  },
  {
   "cell_type": "markdown",
   "id": "8ba61099-8e1c-4435-a9b3-d79c3aecacd2",
   "metadata": {},
   "source": [
    "**Note**: some low-distance bins are rejected by approach 2.2 but not rejected by 2.1. For example, first bin of central valley 20190122-20190203, 78 percent of points are under the curve but rejected by approach 2.2.\n",
    "\n",
    "The most potential reason is: for low-distance bins, the variation of the mission requirement is significant so it is not appropriate to assume points in these bins obey the same distribution.\n",
    "\n",
    "I increase the number of bins to 50 and find the percentage of accepted interferograms by approach 2.2 increases to around 0.8 which is 0.76 before. But the phenomenon still exist. As for approach 2.1, no significant difference."
   ]
  }
 ],
 "metadata": {
  "kernelspec": {
   "display_name": "base",
   "language": "python",
   "name": "python3"
  },
  "language_info": {
   "codemirror_mode": {
    "name": "ipython",
    "version": 3
   },
   "file_extension": ".py",
   "mimetype": "text/x-python",
   "name": "python",
   "nbconvert_exporter": "python",
   "pygments_lexer": "ipython3",
   "version": "3.9.7"
  }
 },
 "nbformat": 4,
 "nbformat_minor": 5
}
