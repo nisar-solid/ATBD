{
 "cells": [
  {
   "cell_type": "code",
   "execution_count": null,
   "id": "8e59dd29-5107-472d-8303-7baa9455b9b1",
   "metadata": {},
   "outputs": [],
   "source": [
    "import numpy as np\n",
    "import pickle\n",
    "from pathlib import Path\n",
    "from scipy.spatial.distance import pdist\n",
    "from itertools import combinations,chain\n",
    "import pandas as pd"
   ]
  },
  {
   "cell_type": "code",
   "execution_count": null,
   "id": "11835287-5ed9-4b5a-b761-5a09e030a606",
   "metadata": {},
   "outputs": [],
   "source": [
    "calval_dir = Path.cwd()/'calval'\n",
    "calval_location = 'central_valley'\n",
    "work_dir = calval_dir/calval_location"
   ]
  },
  {
   "cell_type": "code",
   "execution_count": null,
   "id": "1535d1a0-ffe7-4828-b82d-7c4844d46a13",
   "metadata": {},
   "outputs": [],
   "source": [
    "with open(work_dir/'approach1.pkl','rb') as f:\n",
    "    dist, rel_measure, ifgs_date = pickle.load(f)"
   ]
  },
  {
   "cell_type": "code",
   "execution_count": null,
   "id": "7d7dccf1-7080-4066-899b-569e5c7ff8aa",
   "metadata": {},
   "outputs": [],
   "source": [
    "n_ifgs = len(dist)"
   ]
  },
  {
   "cell_type": "code",
   "execution_count": null,
   "id": "53e76547-f240-4de2-8106-6e8b9d78723d",
   "metadata": {},
   "outputs": [],
   "source": [
    "n_bins = 10\n",
    "bins = np.linspace(0.1,50.0,num=n_bins+1)"
   ]
  },
  {
   "cell_type": "code",
   "execution_count": null,
   "id": "1775feac-0484-46e0-bee2-3a6f8ad6de96",
   "metadata": {},
   "outputs": [],
   "source": [
    "n_all = np.empty([n_ifgs,n_bins+1],dtype=int) # number of points for each ifgs and bins\n",
    "n_pass = np.empty([n_ifgs,n_bins+1],dtype=int) # number of points pass\n",
    "#ratio = np.empty([n_ifgs,n_bins+1]) # ratio\n",
    "# the final column is the ratio as a whole\n",
    "for i in range(n_ifgs):\n",
    "    inds = np.digitize(dist[i],bins)\n",
    "    for j in range(1,n_bins+1):\n",
    "        rqmt = 3*(1+np.sqrt(dist[i][inds==j]))# mission requirement for i-th ifgs and j-th bins\n",
    "        rem = rel_measure[i][inds==j] # relative measurement\n",
    "        assert len(rqmt) == len(rem)\n",
    "        n_all[i,j-1] = len(rem)\n",
    "        n_pass[i,j-1] = np.count_nonzero(rem<rqmt)\n",
    "    n_all[i,-1] = np.sum(n_all[i,0:-2])\n",
    "    n_pass[i,-1] = np.sum(n_pass[i,0:-2])"
   ]
  },
  {
   "cell_type": "code",
   "execution_count": null,
   "id": "24d1ead5-6d83-4b71-a63c-d33c8959fc12",
   "metadata": {},
   "outputs": [],
   "source": [
    "def to_str(x:bool):\n",
    "    if x==True:\n",
    "        return 'true '\n",
    "    elif x==False:\n",
    "        return 'false '"
   ]
  },
  {
   "cell_type": "code",
   "execution_count": null,
   "id": "7f03ed47-d3b3-4280-ad0f-2b77bd7d3f8d",
   "metadata": {},
   "outputs": [],
   "source": [
    "ratio = n_pass/n_all\n",
    "thresthod = 0.683 \n",
    "#The assumed nature of Gaussian distribution gives a probability of 0.683 of being within one standard deviation.\n",
    "success_or_fail = ratio>thresthod\n",
    "success_or_fail_str = [list(map(to_str, x)) for x in success_or_fail]"
   ]
  },
  {
   "cell_type": "code",
   "execution_count": null,
   "id": "bb06c55d-1805-4817-aea6-49b6fbdf902a",
   "metadata": {},
   "outputs": [],
   "source": [
    "columns = []\n",
    "for i in range(n_bins):\n",
    "    columns.append(f'{bins[i]:.2f}-{bins[i+1]:.2f}')\n",
    "columns.append('total')"
   ]
  },
  {
   "cell_type": "code",
   "execution_count": null,
   "id": "459d0815-4ffc-4174-95ca-16549f88276f",
   "metadata": {},
   "outputs": [],
   "source": [
    "index = []\n",
    "for i in range(len(ifgs_date)):\n",
    "    index.append(ifgs_date[i,0].strftime('%Y%m%d')+'-'+ifgs_date[i,1].strftime('%Y%m%d'))"
   ]
  },
  {
   "cell_type": "code",
   "execution_count": null,
   "id": "d9aadce4-59fd-4efd-9791-aab60544c058",
   "metadata": {
    "tags": []
   },
   "outputs": [],
   "source": [
    "n_all_pd = pd.DataFrame(n_all,columns=columns,index=index)\n",
    "n_pass_pd = pd.DataFrame(n_pass,columns=columns,index=index)\n",
    "ratio_pd = pd.DataFrame(ratio,columns=columns,index=index)\n",
    "success_or_fail_pd = pd.DataFrame(success_or_fail_str,columns=columns,index=index)"
   ]
  },
  {
   "cell_type": "markdown",
   "id": "b89588c7-d599-4272-b83e-e8eb8aa36dc5",
   "metadata": {},
   "source": [
    "Number of data points in each bin:"
   ]
  },
  {
   "cell_type": "code",
   "execution_count": null,
   "id": "1baba742-446b-475e-8335-f995dfffb62e",
   "metadata": {
    "tags": []
   },
   "outputs": [],
   "source": [
    "n_all_pd"
   ]
  },
  {
   "cell_type": "markdown",
   "id": "8fa8c513-0c54-4272-9143-1bfe9c9893a5",
   "metadata": {},
   "source": [
    "Number of data points that below the curve:"
   ]
  },
  {
   "cell_type": "code",
   "execution_count": null,
   "id": "009e14b3-4572-441a-b375-1e8e9d833789",
   "metadata": {
    "tags": []
   },
   "outputs": [],
   "source": [
    "n_pass_pd"
   ]
  },
  {
   "cell_type": "markdown",
   "id": "8765e160-99e1-4a07-ab42-542b128eadf7",
   "metadata": {},
   "source": [
    "Ratio of pass:"
   ]
  },
  {
   "cell_type": "code",
   "execution_count": null,
   "id": "c263641e-5db7-44ac-8b0e-89879f840a6f",
   "metadata": {
    "tags": []
   },
   "outputs": [],
   "source": [
    "s = ratio_pd.style\n",
    "s.set_table_styles([  # create internal CSS classes\n",
    "    {'selector': '.true', 'props': 'background-color: #e6ffe6;'},\n",
    "    {'selector': '.false', 'props': 'background-color: #ffe6e6;'},\n",
    "], overwrite=False)\n",
    "s.set_td_classes(success_or_fail_pd)"
   ]
  },
  {
   "cell_type": "markdown",
   "id": "55ec19d7-77e2-4cc1-8e5e-ee15286e5719",
   "metadata": {},
   "source": [
    "Percentage of interferograms passes the requirement (thresthod = 0.683):"
   ]
  },
  {
   "cell_type": "code",
   "execution_count": null,
   "id": "fcf68892-bf0c-43d8-9b24-e4f298d81994",
   "metadata": {},
   "outputs": [],
   "source": [
    "np.count_nonzero(ratio_pd['total']>thresthod)/n_ifgs"
   ]
  }
 ],
 "metadata": {
  "kernelspec": {
   "display_name": "Python 3",
   "language": "python",
   "name": "python3"
  },
  "language_info": {
   "codemirror_mode": {
    "name": "ipython",
    "version": 3
   },
   "file_extension": ".py",
   "mimetype": "text/x-python",
   "name": "python",
   "nbconvert_exporter": "python",
   "pygments_lexer": "ipython3",
   "version": "3.8.12"
  }
 },
 "nbformat": 4,
 "nbformat_minor": 5
}
