{
 "cells": [
  {
   "cell_type": "markdown",
   "id": "3e331059-1a50-4f9d-a19e-b0b536e56824",
   "metadata": {},
   "source": [
    "## Get Hyp3 data for the permafrost cal/val notebook"
   ]
  },
  {
   "cell_type": "code",
   "execution_count": 19,
   "id": "b5ccc717-045d-44bc-a377-e0e974256680",
   "metadata": {},
   "outputs": [],
   "source": [
    "import numpy as np\n",
    "import pandas as pd\n",
    "from pathlib import Path\n",
    "import asf_search as asf\n",
    "from dateutil.parser import parse as parse_date\n",
    "from typing import List, Union\n",
    "from osgeo import gdal"
   ]
  },
  {
   "cell_type": "code",
   "execution_count": 2,
   "id": "ad0a2088-bd8d-4daf-8a1d-b25e600827c5",
   "metadata": {},
   "outputs": [],
   "source": [
    "# project_name = 'NC_BakersLake_Summer21'\n",
    "# project_name = 'NC_NWT2_Summer19'\n",
    "# project_name = 'NC_NWT3_Summer19' #location is further south\n",
    "# project_name = 'NC_NWT3_Summer21'\n",
    "# project_name = 'NC_Toolik_Summer20'\n",
    "project_name = 'NC_Toolik_Summer21'\n",
    "# project_name='NC_NSlopeWest_Summer21'\n",
    "# project_name = 'NC_Kivalina_Summer19'\n",
    "# project_name,year = 'Toolik',2023\n",
    "project_name,year = 'Toolik',2023\n",
    "\n",
    "path=None\n",
    "frame=None\n",
    "\n",
    "if project_name=='NC_BakersLake_Summer21': lonlat,year = 'POINT(-95.52900 64.839)',2021\n",
    "if project_name=='NC_NWT2_Summer19': lonlat,year='POINT(-91.95 65.03)',2019\n",
    "if project_name== 'NC_NWT3_Summer19': lonlat,year='POINT(-97.6848 61.9168)',2019\n",
    "if project_name== 'NC_NWT3_Summer21': lonlat,year='POINT(-97.6848 61.9168)',2021\n",
    "if project_name=='NC_Toolik_Summer20': lonlat,year='POINT(-149.37 69.09)',2020\n",
    "if project_name=='NC_Toolik_Summer21': lonlat,year='POINT(-149.37 69.09)',2021\n",
    "if project_name=='NC_NSlopeWest_Summer21': lonlat,year='POINT(-160.14 68.78)',2021\n",
    "if project_name=='NC_Kivalina_Summer19': lonlat,year = 'POINT(-166.716 67.6078)',2019\n",
    "if project_name=='Toolik': lonlat,path,frame='POINT(-149.37 69.09)',102,362\n",
    "if project_name=='Toolik_alt': lonlat,frame='POINT(-149.37 69.09)',224\n",
    "# if project_name=='ToolikNC':lonlat,path,frame='POINT(-149.37 69.09)',102,362\n",
    "\n",
    "# work_dir = Path.home() / 'NISAR_cal_data' / project_name\n",
    "work_dir = Path.home() / 'NISAR_cal_data' / project_name / str(year)\n",
    "data_dir = work_dir / 'data'\n",
    "\n",
    "stack_start = parse_date(f'{year}-06-01 00:00:00Z')\n",
    "stack_end = parse_date(f'{year}-09-20 00:00:00Z')\n",
    "max_temporal_baseline = 25 #days\n",
    "if project_name == 'NC_NWT3_Summer21':\n",
    "    max_temporal_baseline = 50 #days\n",
    "\n",
    "data_dir.mkdir(parents=True, exist_ok=True)\n",
    "\n",
    "# lonlat = "
   ]
  },
  {
   "cell_type": "code",
   "execution_count": 3,
   "id": "8fd51e48-f54d-4da2-afdf-bc18449697eb",
   "metadata": {},
   "outputs": [],
   "source": [
    "# frame=None\n",
    "direction = None\n",
    "#note: using ASCENDING for this\n",
    "\n",
    "# direction = asf.ASCENDING\n",
    "# direction = asf.DESCENDING\n",
    "if project_name=='NC_NSlopeWest_Summer21': frame,direction=362,asf.DESCENDING\n",
    "\n",
    "search_results = asf.geo_search(\n",
    "        platform=asf.SENTINEL1,\n",
    "        intersectsWith=lonlat,\n",
    "        start=f'{year}-05-25',\n",
    "        end=f'{year}-09-10',\n",
    "        processingLevel=asf.SLC,\n",
    "        beamMode=asf.IW,\n",
    "        flightDirection=direction,\n",
    "        asfFrame=frame,\n",
    "    )\n"
   ]
  },
  {
   "cell_type": "code",
   "execution_count": 4,
   "id": "40e9fcf6-8b01-43c9-8ebf-60fde64f35fe",
   "metadata": {},
   "outputs": [
    {
     "name": "stdout",
     "output_type": "stream",
     "text": [
      "10\n"
     ]
    },
    {
     "data": {
      "text/html": [
       "<div>\n",
       "<style scoped>\n",
       "    .dataframe tbody tr th:only-of-type {\n",
       "        vertical-align: middle;\n",
       "    }\n",
       "\n",
       "    .dataframe tbody tr th {\n",
       "        vertical-align: top;\n",
       "    }\n",
       "\n",
       "    .dataframe thead th {\n",
       "        text-align: right;\n",
       "    }\n",
       "</style>\n",
       "<table border=\"1\" class=\"dataframe\">\n",
       "  <thead>\n",
       "    <tr style=\"text-align: right;\">\n",
       "      <th></th>\n",
       "      <th>beamModeType</th>\n",
       "      <th>browse</th>\n",
       "      <th>bytes</th>\n",
       "      <th>centerLat</th>\n",
       "      <th>centerLon</th>\n",
       "      <th>faradayRotation</th>\n",
       "      <th>fileID</th>\n",
       "      <th>flightDirection</th>\n",
       "      <th>groupID</th>\n",
       "      <th>granuleType</th>\n",
       "      <th>...</th>\n",
       "      <th>sceneName</th>\n",
       "      <th>sensor</th>\n",
       "      <th>startTime</th>\n",
       "      <th>stopTime</th>\n",
       "      <th>url</th>\n",
       "      <th>fileName</th>\n",
       "      <th>frameNumber</th>\n",
       "      <th>temporalBaseline</th>\n",
       "      <th>perpendicularBaseline</th>\n",
       "      <th>geometry</th>\n",
       "    </tr>\n",
       "  </thead>\n",
       "  <tbody>\n",
       "    <tr>\n",
       "      <th>182</th>\n",
       "      <td>IW</td>\n",
       "      <td>None</td>\n",
       "      <td>4608855607</td>\n",
       "      <td>68.9321</td>\n",
       "      <td>-151.7568</td>\n",
       "      <td>None</td>\n",
       "      <td>S1A_IW_SLC__1SDV_20230603T164401_20230603T1644...</td>\n",
       "      <td>DESCENDING</td>\n",
       "      <td>S1A_IWDV_0361_0368_048824_102</td>\n",
       "      <td>SENTINEL_1A_FRAME</td>\n",
       "      <td>...</td>\n",
       "      <td>S1A_IW_SLC__1SDV_20230603T164401_20230603T1644...</td>\n",
       "      <td>C-SAR</td>\n",
       "      <td>2023-06-03 16:44:01+00:00</td>\n",
       "      <td>2023-06-03T16:44:29.000Z</td>\n",
       "      <td>https://datapool.asf.alaska.edu/SLC/SA/S1A_IW_...</td>\n",
       "      <td>S1A_IW_SLC__1SDV_20230603T164401_20230603T1644...</td>\n",
       "      <td>362</td>\n",
       "      <td>0</td>\n",
       "      <td>0.0</td>\n",
       "      <td>{'coordinates': [[[-149.293701, 67.836151], [-...</td>\n",
       "    </tr>\n",
       "    <tr>\n",
       "      <th>183</th>\n",
       "      <td>IW</td>\n",
       "      <td>None</td>\n",
       "      <td>4686505900</td>\n",
       "      <td>68.9316</td>\n",
       "      <td>-151.7565</td>\n",
       "      <td>None</td>\n",
       "      <td>S1A_IW_SLC__1SDV_20230615T164402_20230615T1644...</td>\n",
       "      <td>DESCENDING</td>\n",
       "      <td>S1A_IWDV_0361_0368_048999_102</td>\n",
       "      <td>SENTINEL_1A_FRAME</td>\n",
       "      <td>...</td>\n",
       "      <td>S1A_IW_SLC__1SDV_20230615T164402_20230615T1644...</td>\n",
       "      <td>C-SAR</td>\n",
       "      <td>2023-06-15 16:44:02.311000+00:00</td>\n",
       "      <td>2023-06-15T16:44:30.221Z</td>\n",
       "      <td>https://datapool.asf.alaska.edu/SLC/SA/S1A_IW_...</td>\n",
       "      <td>S1A_IW_SLC__1SDV_20230615T164402_20230615T1644...</td>\n",
       "      <td>362</td>\n",
       "      <td>12</td>\n",
       "      <td>-16.0</td>\n",
       "      <td>{'coordinates': [[[-149.29332, 67.835739], [-1...</td>\n",
       "    </tr>\n",
       "    <tr>\n",
       "      <th>184</th>\n",
       "      <td>IW</td>\n",
       "      <td>None</td>\n",
       "      <td>4688870133</td>\n",
       "      <td>68.9313</td>\n",
       "      <td>-151.7526</td>\n",
       "      <td>None</td>\n",
       "      <td>S1A_IW_SLC__1SDV_20230627T164402_20230627T1644...</td>\n",
       "      <td>DESCENDING</td>\n",
       "      <td>S1A_IWDV_0361_0368_049174_102</td>\n",
       "      <td>SENTINEL_1A_FRAME</td>\n",
       "      <td>...</td>\n",
       "      <td>S1A_IW_SLC__1SDV_20230627T164402_20230627T1644...</td>\n",
       "      <td>C-SAR</td>\n",
       "      <td>2023-06-27 16:44:02.446000+00:00</td>\n",
       "      <td>2023-06-27T16:44:30.361Z</td>\n",
       "      <td>https://datapool.asf.alaska.edu/SLC/SA/S1A_IW_...</td>\n",
       "      <td>S1A_IW_SLC__1SDV_20230627T164402_20230627T1644...</td>\n",
       "      <td>362</td>\n",
       "      <td>24</td>\n",
       "      <td>-172.0</td>\n",
       "      <td>{'coordinates': [[[-149.289795, 67.835335], [-...</td>\n",
       "    </tr>\n",
       "    <tr>\n",
       "      <th>185</th>\n",
       "      <td>IW</td>\n",
       "      <td>None</td>\n",
       "      <td>4678720995</td>\n",
       "      <td>68.9313</td>\n",
       "      <td>-151.7543</td>\n",
       "      <td>None</td>\n",
       "      <td>S1A_IW_SLC__1SDV_20230709T164403_20230709T1644...</td>\n",
       "      <td>DESCENDING</td>\n",
       "      <td>S1A_IWDV_0361_0368_049349_102</td>\n",
       "      <td>SENTINEL_1A_FRAME</td>\n",
       "      <td>...</td>\n",
       "      <td>S1A_IW_SLC__1SDV_20230709T164403_20230709T1644...</td>\n",
       "      <td>C-SAR</td>\n",
       "      <td>2023-07-09 16:44:03.895000+00:00</td>\n",
       "      <td>2023-07-09T16:44:31.808Z</td>\n",
       "      <td>https://datapool.asf.alaska.edu/SLC/SA/S1A_IW_...</td>\n",
       "      <td>S1A_IW_SLC__1SDV_20230709T164403_20230709T1644...</td>\n",
       "      <td>362</td>\n",
       "      <td>36</td>\n",
       "      <td>-107.0</td>\n",
       "      <td>{'coordinates': [[[-149.291443, 67.835373], [-...</td>\n",
       "    </tr>\n",
       "    <tr>\n",
       "      <th>186</th>\n",
       "      <td>IW</td>\n",
       "      <td>None</td>\n",
       "      <td>4689162092</td>\n",
       "      <td>68.9314</td>\n",
       "      <td>-151.7562</td>\n",
       "      <td>None</td>\n",
       "      <td>S1A_IW_SLC__1SDV_20230721T164404_20230721T1644...</td>\n",
       "      <td>DESCENDING</td>\n",
       "      <td>S1A_IWDV_0361_0368_049524_102</td>\n",
       "      <td>SENTINEL_1A_FRAME</td>\n",
       "      <td>...</td>\n",
       "      <td>S1A_IW_SLC__1SDV_20230721T164404_20230721T1644...</td>\n",
       "      <td>C-SAR</td>\n",
       "      <td>2023-07-21 16:44:04.486000+00:00</td>\n",
       "      <td>2023-07-21T16:44:32.398Z</td>\n",
       "      <td>https://datapool.asf.alaska.edu/SLC/SA/S1A_IW_...</td>\n",
       "      <td>S1A_IW_SLC__1SDV_20230721T164404_20230721T1644...</td>\n",
       "      <td>362</td>\n",
       "      <td>48</td>\n",
       "      <td>-23.0</td>\n",
       "      <td>{'coordinates': [[[-149.293121, 67.835464], [-...</td>\n",
       "    </tr>\n",
       "    <tr>\n",
       "      <th>187</th>\n",
       "      <td>IW</td>\n",
       "      <td>None</td>\n",
       "      <td>4678115605</td>\n",
       "      <td>68.9315</td>\n",
       "      <td>-151.7550</td>\n",
       "      <td>None</td>\n",
       "      <td>S1A_IW_SLC__1SDV_20230802T164404_20230802T1644...</td>\n",
       "      <td>DESCENDING</td>\n",
       "      <td>S1A_IWDV_0361_0368_049699_102</td>\n",
       "      <td>SENTINEL_1A_FRAME</td>\n",
       "      <td>...</td>\n",
       "      <td>S1A_IW_SLC__1SDV_20230802T164404_20230802T1644...</td>\n",
       "      <td>C-SAR</td>\n",
       "      <td>2023-08-02 16:44:04.784000+00:00</td>\n",
       "      <td>2023-08-02T16:44:32.697Z</td>\n",
       "      <td>https://datapool.asf.alaska.edu/SLC/SA/S1A_IW_...</td>\n",
       "      <td>S1A_IW_SLC__1SDV_20230802T164404_20230802T1644...</td>\n",
       "      <td>362</td>\n",
       "      <td>60</td>\n",
       "      <td>-107.0</td>\n",
       "      <td>{'coordinates': [[[-149.29213, 67.83564], [-14...</td>\n",
       "    </tr>\n",
       "    <tr>\n",
       "      <th>188</th>\n",
       "      <td>IW</td>\n",
       "      <td>None</td>\n",
       "      <td>4614840459</td>\n",
       "      <td>68.9313</td>\n",
       "      <td>-151.7536</td>\n",
       "      <td>None</td>\n",
       "      <td>S1A_IW_SLC__1SDV_20230814T164405_20230814T1644...</td>\n",
       "      <td>DESCENDING</td>\n",
       "      <td>S1A_IWDV_0361_0368_049874_102</td>\n",
       "      <td>SENTINEL_1A_FRAME</td>\n",
       "      <td>...</td>\n",
       "      <td>S1A_IW_SLC__1SDV_20230814T164405_20230814T1644...</td>\n",
       "      <td>C-SAR</td>\n",
       "      <td>2023-08-14 16:44:05.666000+00:00</td>\n",
       "      <td>2023-08-14T16:44:33.581Z</td>\n",
       "      <td>https://datapool.asf.alaska.edu/SLC/SA/S1A_IW_...</td>\n",
       "      <td>S1A_IW_SLC__1SDV_20230814T164405_20230814T1644...</td>\n",
       "      <td>362</td>\n",
       "      <td>72</td>\n",
       "      <td>-110.0</td>\n",
       "      <td>{'coordinates': [[[-149.290665, 67.835297], [-...</td>\n",
       "    </tr>\n",
       "    <tr>\n",
       "      <th>189</th>\n",
       "      <td>IW</td>\n",
       "      <td>None</td>\n",
       "      <td>4671684100</td>\n",
       "      <td>68.9310</td>\n",
       "      <td>-151.7538</td>\n",
       "      <td>None</td>\n",
       "      <td>S1A_IW_SLC__1SDV_20230826T164406_20230826T1644...</td>\n",
       "      <td>DESCENDING</td>\n",
       "      <td>S1A_IWDV_0361_0368_050049_102</td>\n",
       "      <td>SENTINEL_1A_FRAME</td>\n",
       "      <td>...</td>\n",
       "      <td>S1A_IW_SLC__1SDV_20230826T164406_20230826T1644...</td>\n",
       "      <td>C-SAR</td>\n",
       "      <td>2023-08-26 16:44:06.579000+00:00</td>\n",
       "      <td>2023-08-26T16:44:34.495Z</td>\n",
       "      <td>https://datapool.asf.alaska.edu/SLC/SA/S1A_IW_...</td>\n",
       "      <td>S1A_IW_SLC__1SDV_20230826T164406_20230826T1644...</td>\n",
       "      <td>362</td>\n",
       "      <td>84</td>\n",
       "      <td>-118.0</td>\n",
       "      <td>{'coordinates': [[[-149.291, 67.83493], [-148....</td>\n",
       "    </tr>\n",
       "    <tr>\n",
       "      <th>190</th>\n",
       "      <td>IW</td>\n",
       "      <td>None</td>\n",
       "      <td>4628564907</td>\n",
       "      <td>68.9322</td>\n",
       "      <td>-151.7518</td>\n",
       "      <td>None</td>\n",
       "      <td>S1A_IW_SLC__1SDV_20230907T164407_20230907T1644...</td>\n",
       "      <td>DESCENDING</td>\n",
       "      <td>S1A_IWDV_0361_0368_050224_102</td>\n",
       "      <td>SENTINEL_1A_FRAME</td>\n",
       "      <td>...</td>\n",
       "      <td>S1A_IW_SLC__1SDV_20230907T164407_20230907T1644...</td>\n",
       "      <td>C-SAR</td>\n",
       "      <td>2023-09-07 16:44:07.029000+00:00</td>\n",
       "      <td>2023-09-07T16:44:34.946Z</td>\n",
       "      <td>https://datapool.asf.alaska.edu/SLC/SA/S1A_IW_...</td>\n",
       "      <td>S1A_IW_SLC__1SDV_20230907T164407_20230907T1644...</td>\n",
       "      <td>362</td>\n",
       "      <td>96</td>\n",
       "      <td>-163.0</td>\n",
       "      <td>{'coordinates': [[[-149.28894, 67.836067], [-1...</td>\n",
       "    </tr>\n",
       "    <tr>\n",
       "      <th>191</th>\n",
       "      <td>IW</td>\n",
       "      <td>None</td>\n",
       "      <td>4378729118</td>\n",
       "      <td>68.9323</td>\n",
       "      <td>-151.7541</td>\n",
       "      <td>None</td>\n",
       "      <td>S1A_IW_SLC__1SDV_20230919T164407_20230919T1644...</td>\n",
       "      <td>DESCENDING</td>\n",
       "      <td>S1A_IWDV_0361_0368_050399_102</td>\n",
       "      <td>SENTINEL_1A_FRAME</td>\n",
       "      <td>...</td>\n",
       "      <td>S1A_IW_SLC__1SDV_20230919T164407_20230919T1644...</td>\n",
       "      <td>C-SAR</td>\n",
       "      <td>2023-09-19 16:44:07.496000+00:00</td>\n",
       "      <td>2023-09-19T16:44:35.408Z</td>\n",
       "      <td>https://datapool.asf.alaska.edu/SLC/SA/S1A_IW_...</td>\n",
       "      <td>S1A_IW_SLC__1SDV_20230919T164407_20230919T1644...</td>\n",
       "      <td>362</td>\n",
       "      <td>108</td>\n",
       "      <td>-55.0</td>\n",
       "      <td>{'coordinates': [[[-149.290909, 67.836311], [-...</td>\n",
       "    </tr>\n",
       "  </tbody>\n",
       "</table>\n",
       "<p>10 rows × 30 columns</p>\n",
       "</div>"
      ],
      "text/plain": [
       "    beamModeType browse       bytes  centerLat  centerLon faradayRotation  \\\n",
       "182           IW   None  4608855607    68.9321  -151.7568            None   \n",
       "183           IW   None  4686505900    68.9316  -151.7565            None   \n",
       "184           IW   None  4688870133    68.9313  -151.7526            None   \n",
       "185           IW   None  4678720995    68.9313  -151.7543            None   \n",
       "186           IW   None  4689162092    68.9314  -151.7562            None   \n",
       "187           IW   None  4678115605    68.9315  -151.7550            None   \n",
       "188           IW   None  4614840459    68.9313  -151.7536            None   \n",
       "189           IW   None  4671684100    68.9310  -151.7538            None   \n",
       "190           IW   None  4628564907    68.9322  -151.7518            None   \n",
       "191           IW   None  4378729118    68.9323  -151.7541            None   \n",
       "\n",
       "                                                fileID flightDirection  \\\n",
       "182  S1A_IW_SLC__1SDV_20230603T164401_20230603T1644...      DESCENDING   \n",
       "183  S1A_IW_SLC__1SDV_20230615T164402_20230615T1644...      DESCENDING   \n",
       "184  S1A_IW_SLC__1SDV_20230627T164402_20230627T1644...      DESCENDING   \n",
       "185  S1A_IW_SLC__1SDV_20230709T164403_20230709T1644...      DESCENDING   \n",
       "186  S1A_IW_SLC__1SDV_20230721T164404_20230721T1644...      DESCENDING   \n",
       "187  S1A_IW_SLC__1SDV_20230802T164404_20230802T1644...      DESCENDING   \n",
       "188  S1A_IW_SLC__1SDV_20230814T164405_20230814T1644...      DESCENDING   \n",
       "189  S1A_IW_SLC__1SDV_20230826T164406_20230826T1644...      DESCENDING   \n",
       "190  S1A_IW_SLC__1SDV_20230907T164407_20230907T1644...      DESCENDING   \n",
       "191  S1A_IW_SLC__1SDV_20230919T164407_20230919T1644...      DESCENDING   \n",
       "\n",
       "                           groupID        granuleType  ...  \\\n",
       "182  S1A_IWDV_0361_0368_048824_102  SENTINEL_1A_FRAME  ...   \n",
       "183  S1A_IWDV_0361_0368_048999_102  SENTINEL_1A_FRAME  ...   \n",
       "184  S1A_IWDV_0361_0368_049174_102  SENTINEL_1A_FRAME  ...   \n",
       "185  S1A_IWDV_0361_0368_049349_102  SENTINEL_1A_FRAME  ...   \n",
       "186  S1A_IWDV_0361_0368_049524_102  SENTINEL_1A_FRAME  ...   \n",
       "187  S1A_IWDV_0361_0368_049699_102  SENTINEL_1A_FRAME  ...   \n",
       "188  S1A_IWDV_0361_0368_049874_102  SENTINEL_1A_FRAME  ...   \n",
       "189  S1A_IWDV_0361_0368_050049_102  SENTINEL_1A_FRAME  ...   \n",
       "190  S1A_IWDV_0361_0368_050224_102  SENTINEL_1A_FRAME  ...   \n",
       "191  S1A_IWDV_0361_0368_050399_102  SENTINEL_1A_FRAME  ...   \n",
       "\n",
       "                                             sceneName sensor  \\\n",
       "182  S1A_IW_SLC__1SDV_20230603T164401_20230603T1644...  C-SAR   \n",
       "183  S1A_IW_SLC__1SDV_20230615T164402_20230615T1644...  C-SAR   \n",
       "184  S1A_IW_SLC__1SDV_20230627T164402_20230627T1644...  C-SAR   \n",
       "185  S1A_IW_SLC__1SDV_20230709T164403_20230709T1644...  C-SAR   \n",
       "186  S1A_IW_SLC__1SDV_20230721T164404_20230721T1644...  C-SAR   \n",
       "187  S1A_IW_SLC__1SDV_20230802T164404_20230802T1644...  C-SAR   \n",
       "188  S1A_IW_SLC__1SDV_20230814T164405_20230814T1644...  C-SAR   \n",
       "189  S1A_IW_SLC__1SDV_20230826T164406_20230826T1644...  C-SAR   \n",
       "190  S1A_IW_SLC__1SDV_20230907T164407_20230907T1644...  C-SAR   \n",
       "191  S1A_IW_SLC__1SDV_20230919T164407_20230919T1644...  C-SAR   \n",
       "\n",
       "                           startTime                  stopTime  \\\n",
       "182        2023-06-03 16:44:01+00:00  2023-06-03T16:44:29.000Z   \n",
       "183 2023-06-15 16:44:02.311000+00:00  2023-06-15T16:44:30.221Z   \n",
       "184 2023-06-27 16:44:02.446000+00:00  2023-06-27T16:44:30.361Z   \n",
       "185 2023-07-09 16:44:03.895000+00:00  2023-07-09T16:44:31.808Z   \n",
       "186 2023-07-21 16:44:04.486000+00:00  2023-07-21T16:44:32.398Z   \n",
       "187 2023-08-02 16:44:04.784000+00:00  2023-08-02T16:44:32.697Z   \n",
       "188 2023-08-14 16:44:05.666000+00:00  2023-08-14T16:44:33.581Z   \n",
       "189 2023-08-26 16:44:06.579000+00:00  2023-08-26T16:44:34.495Z   \n",
       "190 2023-09-07 16:44:07.029000+00:00  2023-09-07T16:44:34.946Z   \n",
       "191 2023-09-19 16:44:07.496000+00:00  2023-09-19T16:44:35.408Z   \n",
       "\n",
       "                                                   url  \\\n",
       "182  https://datapool.asf.alaska.edu/SLC/SA/S1A_IW_...   \n",
       "183  https://datapool.asf.alaska.edu/SLC/SA/S1A_IW_...   \n",
       "184  https://datapool.asf.alaska.edu/SLC/SA/S1A_IW_...   \n",
       "185  https://datapool.asf.alaska.edu/SLC/SA/S1A_IW_...   \n",
       "186  https://datapool.asf.alaska.edu/SLC/SA/S1A_IW_...   \n",
       "187  https://datapool.asf.alaska.edu/SLC/SA/S1A_IW_...   \n",
       "188  https://datapool.asf.alaska.edu/SLC/SA/S1A_IW_...   \n",
       "189  https://datapool.asf.alaska.edu/SLC/SA/S1A_IW_...   \n",
       "190  https://datapool.asf.alaska.edu/SLC/SA/S1A_IW_...   \n",
       "191  https://datapool.asf.alaska.edu/SLC/SA/S1A_IW_...   \n",
       "\n",
       "                                              fileName frameNumber  \\\n",
       "182  S1A_IW_SLC__1SDV_20230603T164401_20230603T1644...         362   \n",
       "183  S1A_IW_SLC__1SDV_20230615T164402_20230615T1644...         362   \n",
       "184  S1A_IW_SLC__1SDV_20230627T164402_20230627T1644...         362   \n",
       "185  S1A_IW_SLC__1SDV_20230709T164403_20230709T1644...         362   \n",
       "186  S1A_IW_SLC__1SDV_20230721T164404_20230721T1644...         362   \n",
       "187  S1A_IW_SLC__1SDV_20230802T164404_20230802T1644...         362   \n",
       "188  S1A_IW_SLC__1SDV_20230814T164405_20230814T1644...         362   \n",
       "189  S1A_IW_SLC__1SDV_20230826T164406_20230826T1644...         362   \n",
       "190  S1A_IW_SLC__1SDV_20230907T164407_20230907T1644...         362   \n",
       "191  S1A_IW_SLC__1SDV_20230919T164407_20230919T1644...         362   \n",
       "\n",
       "    temporalBaseline perpendicularBaseline  \\\n",
       "182                0                   0.0   \n",
       "183               12                 -16.0   \n",
       "184               24                -172.0   \n",
       "185               36                -107.0   \n",
       "186               48                 -23.0   \n",
       "187               60                -107.0   \n",
       "188               72                -110.0   \n",
       "189               84                -118.0   \n",
       "190               96                -163.0   \n",
       "191              108                 -55.0   \n",
       "\n",
       "                                              geometry  \n",
       "182  {'coordinates': [[[-149.293701, 67.836151], [-...  \n",
       "183  {'coordinates': [[[-149.29332, 67.835739], [-1...  \n",
       "184  {'coordinates': [[[-149.289795, 67.835335], [-...  \n",
       "185  {'coordinates': [[[-149.291443, 67.835373], [-...  \n",
       "186  {'coordinates': [[[-149.293121, 67.835464], [-...  \n",
       "187  {'coordinates': [[[-149.29213, 67.83564], [-14...  \n",
       "188  {'coordinates': [[[-149.290665, 67.835297], [-...  \n",
       "189  {'coordinates': [[[-149.291, 67.83493], [-148....  \n",
       "190  {'coordinates': [[[-149.28894, 67.836067], [-1...  \n",
       "191  {'coordinates': [[[-149.290909, 67.836311], [-...  \n",
       "\n",
       "[10 rows x 30 columns]"
      ]
     },
     "execution_count": 4,
     "metadata": {},
     "output_type": "execute_result"
    }
   ],
   "source": [
    "baseline_results = asf.baseline_search.stack_from_product(search_results[-1])\n",
    "\n",
    "columns = list(baseline_results[0].properties.keys()) + ['geometry', ]\n",
    "data = [list(scene.properties.values()) + [scene.geometry, ] for scene in baseline_results]\n",
    "\n",
    "stack = pd.DataFrame(data, columns=columns)\n",
    "stack['startTime'] = stack.startTime.apply(parse_date)\n",
    "\n",
    "stack = stack.loc[(stack_start <= stack.startTime) & (stack.startTime <= stack_end)]\n",
    "\n",
    "print(len(stack))\n",
    "stack"
   ]
  },
  {
   "cell_type": "code",
   "execution_count": 5,
   "id": "1c4573d0-50b8-4758-8f99-6dde258279b2",
   "metadata": {},
   "outputs": [],
   "source": [
    "sbas_pairs = set()\n",
    "\n",
    "for reference, rt in stack.loc[::-1, ['sceneName', 'temporalBaseline']].itertuples(index=False):\n",
    "    secondaries = stack.loc[\n",
    "        (stack.sceneName != reference)\n",
    "        & (stack.temporalBaseline - rt <= max_temporal_baseline)\n",
    "        & (stack.temporalBaseline - rt > 0)\n",
    "    ]\n",
    "    for secondary in secondaries.sceneName:\n",
    "        sbas_pairs.add((reference, secondary))"
   ]
  },
  {
   "cell_type": "markdown",
   "id": "0531eb19-2960-4bc5-a515-16a7c39ec746",
   "metadata": {},
   "source": [
    "## Do Hyp3 processing"
   ]
  },
  {
   "cell_type": "code",
   "execution_count": 6,
   "id": "c772354b-fc1b-47d8-afa0-f0d9d343ff41",
   "metadata": {},
   "outputs": [
    {
     "name": "stdin",
     "output_type": "stream",
     "text": [
      "NASA Earthdata Login username:  acjohnson16\n",
      "NASA Earthdata Login password:  ········\n"
     ]
    }
   ],
   "source": [
    "\n",
    "import hyp3_sdk as sdk\n",
    "\n",
    "hyp3 = sdk.HyP3(prompt=True)\n"
   ]
  },
  {
   "cell_type": "code",
   "execution_count": 7,
   "id": "0a29e12d-1f3e-4ffc-b882-15535528e54f",
   "metadata": {},
   "outputs": [
    {
     "name": "stdout",
     "output_type": "stream",
     "text": [
      "No jobs queued. If you wish to process commands set queuejobs to True\n"
     ]
    }
   ],
   "source": [
    "\n",
    "queuejobs = False\n",
    "jobs = sdk.Batch()\n",
    "h3projname = f\"{project_name}_NCV_{year}\"\n",
    "if queuejobs:\n",
    "    for reference, secondary in sbas_pairs:\n",
    "        jobs += hyp3.submit_insar_job(reference, secondary, name=h3projname,\n",
    "                                      include_dem=True, include_look_vectors=True)\n",
    "\n",
    "if queuejobs: print('Jobs were set to be processed by this command!')\n",
    "else: print('No jobs queued. If you wish to process commands set queuejobs to True')\n"
   ]
  },
  {
   "cell_type": "code",
   "execution_count": 11,
   "id": "861f4d45-c645-4b2e-9283-d4ee48baf539",
   "metadata": {},
   "outputs": [],
   "source": [
    "#watch jobs. this could be slow to run\n",
    "\n",
    "# jobs = hyp3.watch(jobs)\n"
   ]
  },
  {
   "cell_type": "code",
   "execution_count": 8,
   "id": "7c970e3e-7bd5-4c31-95a5-0ed8cb87d00d",
   "metadata": {},
   "outputs": [
    {
     "name": "stdout",
     "output_type": "stream",
     "text": [
      "No jobs running, all clear\n"
     ]
    }
   ],
   "source": [
    "class Error(Exception):\n",
    "    \"\"\"Base class for other exceptions\"\"\"\n",
    "    pass\n",
    "class stillrunningError(Error):\n",
    "    \"\"\"raised when jobs are still running\"\"\"\n",
    "    pass\n",
    "\n",
    "running = len(hyp3.find_jobs(status_code=[\"RUNNING\"]))\n",
    "running += len(hyp3.find_jobs(status_code=[\"PENDING\"]))\n",
    "\n",
    "if running > 0:\n",
    "    print('Jobs still running!')\n",
    "    raise stillrunningError\n",
    "else:\n",
    "    print('No jobs running, all clear')"
   ]
  },
  {
   "cell_type": "code",
   "execution_count": 11,
   "id": "2a85be78-27df-487f-9ade-fe0f752a1861",
   "metadata": {},
   "outputs": [],
   "source": [
    "h3projname = f\"{project_name}_NCV_{year}\"\n",
    "jobs = hyp3.find_jobs(name=h3projname)"
   ]
  },
  {
   "cell_type": "code",
   "execution_count": 12,
   "id": "9c967df6-d767-4b13-8d96-e312b35ce9a3",
   "metadata": {},
   "outputs": [
    {
     "data": {
      "application/vnd.jupyter.widget-view+json": {
       "model_id": "e7acf05dee7a47d9b3164332a8447624",
       "version_major": 2,
       "version_minor": 0
      },
      "text/plain": [
       "  0%|          | 0/17 [00:00<?, ?it/s]"
      ]
     },
     "metadata": {},
     "output_type": "display_data"
    },
    {
     "data": {
      "application/vnd.jupyter.widget-view+json": {
       "model_id": "73febcfc74d94b75963f429392e02713",
       "version_major": 2,
       "version_minor": 0
      },
      "text/plain": [
       "S1AA_20230802T164404_20230826T164406_VVP024_INT80_G_ueF_7DCC.zip:   0%|          | 0/226319665 [00:00<?, ?it/s…"
      ]
     },
     "metadata": {},
     "output_type": "display_data"
    },
    {
     "data": {
      "application/vnd.jupyter.widget-view+json": {
       "model_id": "033e63649cd6488e846f4e0b789d1226",
       "version_major": 2,
       "version_minor": 0
      },
      "text/plain": [
       "S1AA_20230907T164407_20230919T164407_VVP012_INT80_G_ueF_0EC4.zip:   0%|          | 0/222879464 [00:00<?, ?it/s…"
      ]
     },
     "metadata": {},
     "output_type": "display_data"
    },
    {
     "data": {
      "application/vnd.jupyter.widget-view+json": {
       "model_id": "fe75fd8679c447cda4eda2cae7a78258",
       "version_major": 2,
       "version_minor": 0
      },
      "text/plain": [
       "S1AA_20230721T164404_20230802T164404_VVP012_INT80_G_ueF_359F.zip:   0%|          | 0/223574203 [00:00<?, ?it/s…"
      ]
     },
     "metadata": {},
     "output_type": "display_data"
    },
    {
     "data": {
      "application/vnd.jupyter.widget-view+json": {
       "model_id": "366049628cf6453e9061fd91a792d69e",
       "version_major": 2,
       "version_minor": 0
      },
      "text/plain": [
       "S1AA_20230627T164402_20230709T164403_VVP012_INT80_G_ueF_93ED.zip:   0%|          | 0/224482924 [00:00<?, ?it/s…"
      ]
     },
     "metadata": {},
     "output_type": "display_data"
    },
    {
     "data": {
      "application/vnd.jupyter.widget-view+json": {
       "model_id": "08a9265010aa45479bc99fb51a4d67bb",
       "version_major": 2,
       "version_minor": 0
      },
      "text/plain": [
       "S1AA_20230721T164404_20230814T164405_VVP024_INT80_G_ueF_80D4.zip:   0%|          | 0/224929198 [00:00<?, ?it/s…"
      ]
     },
     "metadata": {},
     "output_type": "display_data"
    },
    {
     "data": {
      "application/vnd.jupyter.widget-view+json": {
       "model_id": "16222ddc13104b458b6d591c72dfa881",
       "version_major": 2,
       "version_minor": 0
      },
      "text/plain": [
       "S1AA_20230603T164401_20230627T164402_VVP024_INT80_G_ueF_58BD.zip:   0%|          | 0/224919433 [00:00<?, ?it/s…"
      ]
     },
     "metadata": {},
     "output_type": "display_data"
    },
    {
     "data": {
      "application/vnd.jupyter.widget-view+json": {
       "model_id": "9a0081b1a06541899f5da7567f84535b",
       "version_major": 2,
       "version_minor": 0
      },
      "text/plain": [
       "S1AA_20230603T164401_20230615T164402_VVP012_INT80_G_ueF_C9F1.zip:   0%|          | 0/223323256 [00:00<?, ?it/s…"
      ]
     },
     "metadata": {},
     "output_type": "display_data"
    },
    {
     "data": {
      "application/vnd.jupyter.widget-view+json": {
       "model_id": "31b989983221444eb7840d18a38ac17a",
       "version_major": 2,
       "version_minor": 0
      },
      "text/plain": [
       "S1AA_20230814T164405_20230907T164407_VVP024_INT80_G_ueF_C1A6.zip:   0%|          | 0/223928917 [00:00<?, ?it/s…"
      ]
     },
     "metadata": {},
     "output_type": "display_data"
    },
    {
     "data": {
      "application/vnd.jupyter.widget-view+json": {
       "model_id": "f390b45021ba4a50bd8f2ba9cf675cf3",
       "version_major": 2,
       "version_minor": 0
      },
      "text/plain": [
       "S1AA_20230709T164403_20230721T164404_VVP012_INT80_G_ueF_0745.zip:   0%|          | 0/224343004 [00:00<?, ?it/s…"
      ]
     },
     "metadata": {},
     "output_type": "display_data"
    },
    {
     "data": {
      "application/vnd.jupyter.widget-view+json": {
       "model_id": "9da772d1a1354753b86ef05cd6dbbc6a",
       "version_major": 2,
       "version_minor": 0
      },
      "text/plain": [
       "S1AA_20230814T164405_20230826T164406_VVP012_INT80_G_ueF_9BFA.zip:   0%|          | 0/221955638 [00:00<?, ?it/s…"
      ]
     },
     "metadata": {},
     "output_type": "display_data"
    },
    {
     "data": {
      "application/vnd.jupyter.widget-view+json": {
       "model_id": "6a384e86f98d402ab7809fc21d8ff2fb",
       "version_major": 2,
       "version_minor": 0
      },
      "text/plain": [
       "S1AA_20230826T164406_20230919T164407_VVP024_INT80_G_ueF_3DCA.zip:   0%|          | 0/223494728 [00:00<?, ?it/s…"
      ]
     },
     "metadata": {},
     "output_type": "display_data"
    },
    {
     "data": {
      "application/vnd.jupyter.widget-view+json": {
       "model_id": "f9b32ebdacce43878c1e943e2aa6f522",
       "version_major": 2,
       "version_minor": 0
      },
      "text/plain": [
       "S1AA_20230709T164403_20230802T164404_VVP024_INT80_G_ueF_1484.zip:   0%|          | 0/225340021 [00:00<?, ?it/s…"
      ]
     },
     "metadata": {},
     "output_type": "display_data"
    },
    {
     "data": {
      "application/vnd.jupyter.widget-view+json": {
       "model_id": "f2056d5e7f5544a1960dce06dc79dc8a",
       "version_major": 2,
       "version_minor": 0
      },
      "text/plain": [
       "S1AA_20230615T164402_20230627T164402_VVP012_INT80_G_ueF_9CDF.zip:   0%|          | 0/222324959 [00:00<?, ?it/s…"
      ]
     },
     "metadata": {},
     "output_type": "display_data"
    },
    {
     "data": {
      "application/vnd.jupyter.widget-view+json": {
       "model_id": "9d006a99e81e49fd8a4399c5e647c01f",
       "version_major": 2,
       "version_minor": 0
      },
      "text/plain": [
       "S1AA_20230627T164402_20230721T164404_VVP024_INT80_G_ueF_3070.zip:   0%|          | 0/225341304 [00:00<?, ?it/s…"
      ]
     },
     "metadata": {},
     "output_type": "display_data"
    },
    {
     "data": {
      "application/vnd.jupyter.widget-view+json": {
       "model_id": "0f4942e7bda143f1b6bc438ad245ca18",
       "version_major": 2,
       "version_minor": 0
      },
      "text/plain": [
       "S1AA_20230615T164402_20230709T164403_VVP024_INT80_G_ueF_2D1F.zip:   0%|          | 0/223802169 [00:00<?, ?it/s…"
      ]
     },
     "metadata": {},
     "output_type": "display_data"
    },
    {
     "data": {
      "application/vnd.jupyter.widget-view+json": {
       "model_id": "eda903a0f4aa44c7a26b95aa58d27739",
       "version_major": 2,
       "version_minor": 0
      },
      "text/plain": [
       "S1AA_20230826T164406_20230907T164407_VVP012_INT80_G_ueF_E23A.zip:   0%|          | 0/221125422 [00:00<?, ?it/s…"
      ]
     },
     "metadata": {},
     "output_type": "display_data"
    },
    {
     "data": {
      "application/vnd.jupyter.widget-view+json": {
       "model_id": "2a6237221ede40cd81a0e3b73a5e0883",
       "version_major": 2,
       "version_minor": 0
      },
      "text/plain": [
       "S1AA_20230802T164404_20230814T164405_VVP012_INT80_G_ueF_2787.zip:   0%|          | 0/224075419 [00:00<?, ?it/s…"
      ]
     },
     "metadata": {},
     "output_type": "display_data"
    }
   ],
   "source": [
    "#now get the data\n",
    "\n",
    "insar_products = jobs.download_files(data_dir)\n",
    "insar_products = [sdk.util.extract_zipped_product(ii) for ii in insar_products]\n"
   ]
  },
  {
   "cell_type": "code",
   "execution_count": 17,
   "id": "3a2f75c5-5889-43d6-918e-33f5a05b6a62",
   "metadata": {},
   "outputs": [],
   "source": [
    "#clip to common extent\n",
    "\n",
    "def get_common_overlap(file_list: List[Union[str, Path]]) -> List[float]:\n",
    "    \"\"\"Get the common overlap of  a list of GeoTIFF files\n",
    "    \n",
    "    Arg:\n",
    "        file_list: a list of GeoTIFF files\n",
    "    \n",
    "    Returns:\n",
    "         [ulx, uly, lrx, lry], the upper-left x, upper-left y, lower-right x, and lower-right y\n",
    "         corner coordinates of the common overlap\n",
    "    \"\"\"\n",
    "    \n",
    "    corners = [gdal.Info(str(dem), format='json')['cornerCoordinates'] for dem in file_list]\n",
    "\n",
    "    ulx = max(corner['upperLeft'][0] for corner in corners)\n",
    "    uly = min(corner['upperLeft'][1] for corner in corners)\n",
    "    lrx = min(corner['lowerRight'][0] for corner in corners)\n",
    "    lry = max(corner['lowerRight'][1] for corner in corners)\n",
    "    return [ulx, uly, lrx, lry]\n",
    "\n",
    "def clip_hyp3_products_to_common_overlap(data_dir: Union[str, Path], overlap: List[float]) -> None:\n",
    "    \"\"\"Clip all GeoTIFF files to their common overlap\n",
    "    \n",
    "    Args:\n",
    "        data_dir:\n",
    "            directory containing the GeoTIFF files to clip\n",
    "        overlap:\n",
    "            a list of the upper-left x, upper-left y, lower-right-x, and lower-tight y\n",
    "            corner coordinates of the common overlap\n",
    "    Returns: None\n",
    "    \"\"\"\n",
    "\n",
    "    \n",
    "    files_for_mintpy = ['_water_mask.tif', '_corr.tif', '_unw_phase.tif', '_dem.tif', '_lv_theta.tif', '_lv_phi.tif']\n",
    "\n",
    "    for extension in files_for_mintpy:\n",
    "\n",
    "        for file in data_dir.rglob(f'*{extension}'):\n",
    "\n",
    "            dst_file = file.parent / f'{file.stem}_clipped{file.suffix}'\n",
    "\n",
    "            gdal.Translate(destName=str(dst_file), srcDS=str(file), projWin=overlap)\n",
    "            \n"
   ]
  },
  {
   "cell_type": "code",
   "execution_count": 20,
   "id": "e5b5960d-9e20-4168-a4cd-35bc263317b8",
   "metadata": {},
   "outputs": [],
   "source": [
    "files = data_dir.glob('*/*_dem.tif')\n",
    "overlap = get_common_overlap(files)\n",
    "\n",
    "clip_hyp3_products_to_common_overlap(data_dir, overlap)"
   ]
  },
  {
   "cell_type": "code",
   "execution_count": null,
   "id": "cb672b28-32c4-4a1d-b326-71a87dfad79f",
   "metadata": {},
   "outputs": [],
   "source": []
  },
  {
   "cell_type": "code",
   "execution_count": null,
   "id": "bd818640-6675-402e-a7e8-b69b12f9251d",
   "metadata": {},
   "outputs": [],
   "source": []
  },
  {
   "cell_type": "code",
   "execution_count": null,
   "id": "b4b93f7b-4af3-4379-85c3-7616c5cafe72",
   "metadata": {},
   "outputs": [],
   "source": []
  }
 ],
 "metadata": {
  "kernelspec": {
   "display_name": "insar_analysis [conda env:.local-insar_analysis]",
   "language": "python",
   "name": "conda-env-.local-insar_analysis-py"
  },
  "language_info": {
   "codemirror_mode": {
    "name": "ipython",
    "version": 3
   },
   "file_extension": ".py",
   "mimetype": "text/x-python",
   "name": "python",
   "nbconvert_exporter": "python",
   "pygments_lexer": "ipython3",
   "version": "3.8.16"
  }
 },
 "nbformat": 4,
 "nbformat_minor": 5
}
