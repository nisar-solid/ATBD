{
 "cells": [
  {
   "cell_type": "markdown",
   "id": "53e1ad8e-bf0c-4dcb-8db2-777650e45566",
   "metadata": {
    "tags": []
   },
   "source": [
    "# Preparing NISAR-like data for validation of Solid Earth requirements\n",
    "\n",
    "Prepared by Ekaterina Tymofyeyeva, Heresh Fattahi, Sara Mirzaee, Max Zhan, and Jeff Pon March 2024, \n",
    "\n",
    "<div class=\"alert alert-warning\">\n",
    "Both the initial setup (<b>Prep A</b> section) and download of the data (<b>Prep B</b> section) should be run at the start of the notebook. Methods for validation of transient, secular, and coseismic requirements using Sentinel-1 ARIA data can be run subsequently.\n",
    "</div>\n",
    "\n",
    "<hr/>\n",
    "\n"
   ]
  },
  {
   "cell_type": "code",
   "execution_count": null,
   "id": "fa5223dc-ffcb-4c8d-bb47-1720e9f7652d",
   "metadata": {
    "tags": []
   },
   "outputs": [],
   "source": [
    "## Define CalVal Site \n",
    "# This is a NISAR-like test dataset from California derived from ALOS-1\n",
    "\n",
    "site='NISAR_ALOS1' \n",
    "\n",
    "# Specify the directory where you want to do all your work and store your output time series\n",
    "my_directory = '/scratch/katia/ATBD_outputs'\n",
    "\n",
    "# Where the raw data are stored (staged for now, later searchable and streamed directly from the DAAC)\n",
    "gunw_dir = '/scratch/katia/ALOS_ROSAMOND_20242610'"
   ]
  },
  {
   "cell_type": "markdown",
   "id": "10583e4f-f160-4447-b92b-0dd1ad87365c",
   "metadata": {},
   "source": [
    "# Environment Setup\n",
    "Setup your environment for processing data"
   ]
  },
  {
   "cell_type": "code",
   "execution_count": null,
   "id": "06ae0da4-5814-4738-9b83-2724211d677e",
   "metadata": {
    "tags": []
   },
   "outputs": [],
   "source": [
    "#Load Packages\n",
    "import glob\n",
    "import os\n",
    "import subprocess\n",
    "from datetime import datetime as dt\n",
    "from pathlib import Path\n",
    "\n",
    "import numpy as np\n",
    "import pandas as pd\n",
    "from matplotlib import pyplot as plt\n",
    "#from mintpy import view, plot_network\n",
    "from mintpy.cli import view, plot_network\n",
    "from mintpy.objects import gps, timeseries\n",
    "from mintpy.smallbaselineApp import TimeSeriesAnalysis\n",
    "from mintpy.utils import ptime, readfile, utils as ut\n",
    "from scipy import signal\n",
    "\n",
    "from solid_utils.sampling import load_geo, samp_pair, profile_samples, haversine_distance\n",
    "\n",
    "#Set Global Plot Parameters\n",
    "plt.rcParams.update({'font.size': 12})\n",
    "\n",
    "################# Set Directories ##########################################\n",
    "\n",
    "# Where the raw data are stored\n",
    "data_dir = '/scratch/katia/NISAR_20240321'\n",
    "\n",
    "# Bounding box\n",
    "bbox='-119.0 33.0 -117.0 35.0'\n",
    "\n",
    "print(\"   GUNW    dir:\", gunw_dir) \n",
    "\n",
    "# Directory for MintPy processing\n",
    "mintpy_dir = os.path.join(my_directory,site,'MintPy')\n",
    "os.makedirs(mintpy_dir,exist_ok=True)\n",
    "\n",
    "print(\"   MintPy  dir:\", mintpy_dir)\n",
    "\n",
    "### Change to MintPy workdir\n",
    "vel_file = os.path.join(mintpy_dir, 'velocity.h5')\n",
    "msk_file = os.path.join(mintpy_dir, 'maskConnComp.h5')  # maskTempCoh.h5 maskConnComp.h5\n",
    "\n",
    "os.chdir(mintpy_dir)"
   ]
  },
  {
   "cell_type": "markdown",
   "id": "cf7861dd-a341-4296-9d1e-49588af5129a",
   "metadata": {},
   "source": [
    "<a id='secular_prep_b'></a>\n",
    "## Set up site parameters"
   ]
  },
  {
   "cell_type": "code",
   "execution_count": null,
   "id": "9ce69b32-a30d-4b59-85ef-44bd6080a22f",
   "metadata": {
    "tags": []
   },
   "outputs": [],
   "source": [
    "sites = {\n",
    "    ##########  NISAR_ALOS1 ##############\n",
    "    'NISAR_ALOS1' : {'calval_location' : 'NISAR_ALOS1',\n",
    "            'reference_lalo' : 'auto',\n",
    "            'download_start_date' : '20071210',\n",
    "            'download_end_date' : '20110320',\n",
    "            'analysis_region' : ' 33.0 35.0 -119.0 -117.0',\n",
    "            'tempBaseMax' : 'auto',\n",
    "            'ifgExcludeList' : 'auto',\n",
    "            'maskWater' : False}} \n",
    "\n",
    "print(sites[site]['analysis_region'])\n",
    "\n",
    "S = sites[site]['analysis_region'].strip().split(' ')[0]\n",
    "N = sites[site]['analysis_region'].strip().split(' ')[1]\n",
    "W = sites[site]['analysis_region'].strip().split(' ')[2]\n",
    "E = sites[site]['analysis_region'].strip().split(' ')[3]\n",
    "bbox = W + ' ' + S + ' ' + E + ' ' + N\n",
    "print('bbox: ', bbox)"
   ]
  },
  {
   "cell_type": "markdown",
   "id": "a0430b2e-1d50-43c6-a0eb-2b3e84eb8614",
   "metadata": {
    "tags": []
   },
   "source": [
    "<a id='secular_gen_ifg'></a>\n",
    "# 1. Data access and prep\n",
    "### <font color='red'>Under Construction</font> \n",
    "\n",
    "## 1.1 Search for data on the DAAC \n",
    "\n",
    "Currently, the data are staged locally, but we will be exercising searching for them on the DAAC using bounding boxes and time spans of interest.\n",
    "\n",
    "## 1.2 Create additional interferograms to supplement your network \n",
    "\n",
    "- Define your network by specifying how many interferograms you want to make (n+1, n+2?)\n",
    "- Optionally, recreate the entire network (including nearest neighbor pairs) using custom user-defined parameters. These can include:\n",
    "    - Resampling, \n",
    "    - Stitching together multiple frames at the RSLC level,\n",
    "    - Changing the unwrapping algorithm and other processing options\n",
    "- Stage the additional products on the DAAC, where they will be searchable."
   ]
  },
  {
   "cell_type": "markdown",
   "id": "1fe5d56e-f84f-44c3-8958-7fc9c7401773",
   "metadata": {
    "tags": []
   },
   "source": [
    "<a id='secular_gen_ts'></a>\n",
    "# 2. Making the NISAR data cube\n",
    "\n",
    "InSAR time series (i.e., the unfiltered displacement of each pixel vs. time) are estimated from a processed InSAR stack from Section 3.1 (either ascending or descending) using a variant of the small baseline subset (SBAS) approach and then parameterized using the approach described in Section 4. This step uses tools available in the MintPy software package (REF), which provides both SBAS time series and model-based time series parameterization. Recent results on InSAR closure phase and “fading signal” recommend the of use all available interferograms to avoid systematic bias (_Ansari et al._, 2020; _Zheng Y.J. et al._, 2022). As we expect high-quality orbital control for NISAR, we anticipate that the interferogram stack will typically include all nearest-neighbor (i.e., ~12-day pairs) and skip-1 interferograms, which will be the minimum inputs into the SBAS generation step.\n",
    "\n",
    "We use the open-source ARIA-tools package to download processed L2 interferograms over selected cal/val regions from the Alaska Satellite Facility archive and to stitch/crop the frame-based NISAR GUNW products to stacks that can be directly ingested into MintPy for time-series processing. ARIA-tools uses a phase-minimization approach in the product overlap region to stitch the unwrapped and ionospheric phase, a mosaicing approach for coherence and amplitude, and extracts the geometric information from the 3D data cubes through a mosaicking of the 3D datacubes and subsequent intersection with a DEM. ARIA has been used to pre-process NISAR beta products derived from Sentinel-1 which have revealed interseismic deformation and creep along the San Andreas Fault system, along with subsidence, landsliding, and other signals. \n",
    "\n",
    "We use MintPy to validate and modify the InSAR stack, removing interferograms that do not meet minimum coherence criteria, generating a quality control mask for the purpose of identifying noisy pixels within the stack, and referencing estimated deformation to a common location in all interferograms."
   ]
  },
  {
   "cell_type": "markdown",
   "id": "c58d8886-766c-43fe-b64a-e4a730f67e77",
   "metadata": {},
   "source": [
    "<a id='secular_setup_config'></a>\n",
    "## 2.1. Set Up MintPy Configuration file\n",
    "\n",
    "\n",
    "The default processing parameters for MintPy's **smallbaselineApp.py** need to be modified by including the following lines in config_file (which must be manually created and placed into mint_dir):\n",
    "\n",
    "- mintpy.load.processor      = aria\n",
    "- mintpy.load.unwFile        = ../stack/unwrapStack.vrt\n",
    "- mintpy.load.corFile        = ../stack/cohStack.vrt\n",
    "- mintpy.load.connCompFile   = ../stack/connCompStack.vrt\n",
    "- mintpy.load.demFile        = ../DEM/SRTM_3arcsec.dem\n",
    "- mintpy.load.incAngleFile   = ../incidenceAngle/{download_start_date}_{download_edn_date}.vrt\n",
    "- mintpy.load.azAngleFile    = ../azimuthAngle/{download_start_date}_{download_edn_date}.vrt\n",
    "- mintpy.load.waterMaskFile  = ../mask/watermask.msk\n",
    "- mintpy.reference.lalo      = auto, or somewhere in your bounding box\n",
    "- mintpy.topographicResidual.pixelwiseGeometry = no\n",
    "- mintpy.troposphericDelay.method              = no\n",
    "- mintpy.topographicResidual                   = no"
   ]
  },
  {
   "cell_type": "code",
   "execution_count": null,
   "id": "dc0f67bb-3a9c-48e1-97df-cc9a85b5828d",
   "metadata": {
    "tags": []
   },
   "outputs": [],
   "source": [
    "config_file = Path(mintpy_dir)/(sites[site]['calval_location'] + '.cfg')\n",
    "\n",
    "\n",
    "####################################################################\n",
    "### Write smallbaseline.py config file\n",
    "# TODO fix \n",
    "config_file_content = \"\"\"\n",
    "mintpy.load.processor = nisar\n",
    "mintpy.compute.numWorker = auto\n",
    "mintpy.load.unwFile = {workdir}/products/*h5\n",
    "mintpy.load.demFile = {mintpydir}/DEM/elevation.dem\n",
    "mintpy.topographicResidual.pixelwiseGeometry = no\n",
    "mintpy.troposphericDelay.method = no\n",
    "mintpy.topographicResidual = no\n",
    "mintpy.network.tempBaseMax = {tempmax}\n",
    "mintpy.network.startDate = {startdatenet}\n",
    "mintpy.network.endDate = {enddatenet}\n",
    "mintpy.velocity.startDate = {startdatevel}\n",
    "mintpy.velocity.endDate = {enddatevel}\n",
    "mintpy.reference.lalo = {reference_lalo}\n",
    "mintpy.network.excludeIfgIndex = {excludeIfg}\"\"\".format(workdir = work_dir,\n",
    "                                                        mintpydir = mintpy_dir,\n",
    "                                                        tempmax=sites[site]['tempBaseMax'],\n",
    "                                                        excludeIfg=sites[site]['ifgExcludeList'],\n",
    "                                                        startdatenet=sites[site]['download_start_date'],\n",
    "                                                        enddatenet=sites[site]['download_end_date'],\n",
    "                                                        startdatevel=sites[site]['download_start_date'],\n",
    "                                                        enddatevel=sites[site]['download_end_date'],\n",
    "                                                        reference_lalo=sites[site]['reference_lalo'])\n",
    "\n",
    "config_file.write_text(config_file_content)\n",
    "\n",
    "print('MintPy config file:\\n    {}:'.format(config_file))\n",
    "print(config_file.read_text())"
   ]
  },
  {
   "cell_type": "code",
   "execution_count": null,
   "id": "9d882244-5f5b-46c0-9552-ad0cf602929c",
   "metadata": {
    "tags": []
   },
   "outputs": [],
   "source": [
    "# Get the DEM\n",
    "dem_dir = os.path.join(mintpy_dir,'DEM')\n",
    "os.makedirs(dem_dir,exist_ok=True)\n",
    "demfile = os.path.join(dem_dir,'elevation.dem')\n",
    "\n",
    "cmd = 'sardem --bbox ' + bbox + ' --data-source NASA -o ' + demfile\n",
    "os.system(cmd)"
   ]
  },
  {
   "cell_type": "markdown",
   "id": "7b536b6f-aac9-4cee-a391-8a2e152de55d",
   "metadata": {},
   "source": [
    "<a id='secular_load_data'></a>\n",
    "## 2.2. Load Data into MintPy\n",
    "\n",
    "The output of this step is an \"inputs\" directory in 'calval_directory/calval_location/MintPy/\" containing two HDF5 files:\n",
    "- ifgramStack.h5: This file contains 6 dataset cubes (e.g. unwrapped phase, coherence, connected components etc.) and multiple metadata\n",
    "- geometryGeo.h5: This file contains geometrical datasets (e.g., incidence/azimuth angle, masks, etc.)"
   ]
  },
  {
   "cell_type": "code",
   "execution_count": null,
   "id": "e0cb7791-8cfc-4ec1-9afe-dc30f1201820",
   "metadata": {
    "tags": []
   },
   "outputs": [],
   "source": [
    "os.chdir(mintpy_dir)\n",
    "print(mintpy_dir)\n",
    "command = 'smallbaselineApp.py ' + str(config_file) + ' --dir ' + mintpy_dir + ' --dostep load_data'\n",
    "process = subprocess.run(command, shell=True)\n",
    "print('Mintpy input files:')\n",
    "[x for x in os.listdir('inputs') if x.endswith('.h5')]"
   ]
  }
 ],
 "metadata": {
  "kernelspec": {
   "display_name": "mintpy_dev",
   "language": "python",
   "name": "mintpy_dev"
  },
  "language_info": {
   "codemirror_mode": {
    "name": "ipython",
    "version": 3
   },
   "file_extension": ".py",
   "mimetype": "text/x-python",
   "name": "python",
   "nbconvert_exporter": "python",
   "pygments_lexer": "ipython3",
   "version": "3.11.8"
  }
 },
 "nbformat": 4,
 "nbformat_minor": 5
}
