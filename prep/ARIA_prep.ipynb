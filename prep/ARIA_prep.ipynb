{
 "cells": [
  {
   "cell_type": "markdown",
   "id": "0b8d77a2-b3ea-47a1-9f9f-f49d0ed160ab",
   "metadata": {},
   "source": [
    "# Preparing ARIA Sentinel-1 data for validation of Solid Earth requirements\n",
    "\n",
    "**Original code authored by:** David Bekaert, Heresh Fattahi, Eric Fielding, and Zhang Yunjun  <br>\n",
    "Extensive modifications by Adrian Borsa and Amy Whetter 2022 <br>\n",
    "Reorganized and modified by Ekaterina Tymofyeyeva, March 2024\n",
    "\n",
    "<div class=\"alert alert-warning\">\n",
    "This notebook pre-processes data for different NISAR Solid Earth calval sites amd requirements. Subsequent validation is done via separate notebooks for the Transient, Secular, and Coseismic requirements. These are located under /ATBD_main/methods/.\n",
    "</div>"
   ]
  },
  {
   "cell_type": "markdown",
   "id": "397daf73-728b-4e62-a25e-2d321f41384f",
   "metadata": {
    "tags": []
   },
   "source": [
    "<hr/>\n",
    "\n",
    "## Table of Contents: <a id='prep_TOC'></a>\n",
    "\n",
    "[**Environment Setup**](#setup)\n",
    "- [Load Python Packages](#load_packages)\n",
    "- [Define CalVal Site and Parameters](#set_calval_params)\n",
    "- [Define Directories](#set_directories)\n",
    "- [Authentication](#set_authentication)\n",
    "\n",
    "[**1. Download and Prepare Interferograms**](#prep_ifg)\n",
    "- [1.1.  Download Interferograms](#prep_download_ifg)\n",
    "- [1.2.  Crop Interferograms](#prep_crop_ifg)\n",
    "- [1.3.  Set Up MintPy Configuration file](#prep_setup_config)\n",
    "- [1.4.  Load Data into MintPy](#prep_load_data)\n",
    "- [1.5.  Clean Up](#prep_clean_up)\n",
    "\n",
    "<hr/>"
   ]
  },
  {
   "cell_type": "markdown",
   "id": "5a9b4566-7905-4d0e-8e4a-097266495e61",
   "metadata": {},
   "source": [
    "<a id='#setup'></a>\n",
    "## Environment Setup"
   ]
  },
  {
   "cell_type": "markdown",
   "id": "831854a8-9258-46fd-a136-ffa7ef9f72d8",
   "metadata": {},
   "source": [
    "### Load Python Packages <a id='#load_packages'></a>"
   ]
  },
  {
   "cell_type": "code",
   "execution_count": null,
   "id": "ae784898-3e41-4463-a3f9-bd701a80dd23",
   "metadata": {
    "tags": []
   },
   "outputs": [],
   "source": [
    "import glob\n",
    "import json\n",
    "import netrc\n",
    "import numpy as np\n",
    "import os\n",
    "import pandas as pd\n",
    "import subprocess\n",
    "\n",
    "from datetime import datetime as dt\n",
    "from matplotlib import pyplot as plt\n",
    "from mintpy.cli import view, plot_network\n",
    "from mintpy.objects import gnss, timeseries\n",
    "from mintpy.smallbaselineApp import TimeSeriesAnalysis\n",
    "from mintpy.utils import ptime, readfile, utils as ut\n",
    "from pathlib import Path\n",
    "from scipy import signal\n",
    "from solid_utils.sampling import load_geo, samp_pair, profile_samples, haversine_distance\n",
    "\n",
    "# Set gobal plot parameters\n",
    "plt.rcParams.update({'font.size': 12})"
   ]
  },
  {
   "cell_type": "markdown",
   "id": "07a433c2-ce25-40bc-a1db-f5c4506d3e01",
   "metadata": {
    "tags": []
   },
   "source": [
    "### Define Calval Site and Parameters <a id='set_calval_params'></a>"
   ]
  },
  {
   "cell_type": "code",
   "execution_count": null,
   "id": "6678a3c6-2e69-43d0-bdee-fe983a5b2680",
   "metadata": {
    "tags": []
   },
   "outputs": [],
   "source": [
    "# Specify a calval location ID from my_sites.txt\n",
    "site = 'test' \n",
    "\n",
    "# Choose the requirement to validate\n",
    "# Options: 'Secular' 'Coseismic' 'Transient'\n",
    "requirement = 'Secular' \n",
    "\n",
    "# What dataset are you processing?\n",
    "# Options: 'ARIA_S1' (for Sentinel-1 testing with aria-tools)\n",
    "dataset = 'ARIA_S1'\n",
    "aria_gunw_version = '3_0_1'\n",
    "\n",
    "# The date and version of this Cal/Val run\n",
    "rundate = '20240821'\n",
    "version = '1'\n",
    "\n",
    "# Provide the file where you keep your customized list of sites.\n",
    "custom_sites = '/home/jovyan/my_sites.txt'\n",
    "\n",
    "# Enter a username for storing your outputs\n",
    "if os.path.exists('/home/jovyan/me.txt'):\n",
    "    with open('/home/jovyan/me.txt') as m:\n",
    "        you = m.readline().strip()\n",
    "else:\n",
    "    you = input('Please type a username for your calval outputs:')\n",
    "    with open ('/home/jovyan/me.txt', 'w') as m: \n",
    "        m.write(you)\n",
    "\n",
    "# Load metadata for calval locations\n",
    "with open(custom_sites,'r') as fid:\n",
    "    sitedata = json.load(fid)\n",
    "#sitedata['sites'][site]"
   ]
  },
  {
   "cell_type": "markdown",
   "id": "9f00c720-2ba2-4843-a667-f2411f468204",
   "metadata": {
    "tags": []
   },
   "source": [
    "### Set Directories and Files <a id='set_directories'></a>"
   ]
  },
  {
   "cell_type": "code",
   "execution_count": null,
   "id": "91dade5f-c3f9-4222-a71e-08a4bb434145",
   "metadata": {
    "tags": []
   },
   "outputs": [],
   "source": [
    "# Directory location for Cal/Val data (do not change)\n",
    "start_directory = '/scratch/nisar-st-calval-solidearth' \n",
    "\n",
    "# Working directory for calval processing\n",
    "work_dir = os.path.join(start_directory, dataset, requirement, site, you, rundate, 'v' + version)\n",
    "os.makedirs(work_dir, exist_ok=True)\n",
    "os.chdir(work_dir)\n",
    "print(\"  Work directory:\", work_dir)\n",
    "\n",
    "# Directory for storing GUNW interferograms\n",
    "gunw_dir = os.path.join(work_dir,'products')\n",
    "os.makedirs(gunw_dir, exist_ok=True)\n",
    "print(\"  GUNW directory:\", gunw_dir) \n",
    "\n",
    "# Directory for storing MintPy outputs\n",
    "mintpy_dir = os.path.join(work_dir,'MintPy')\n",
    "os.makedirs(mintpy_dir, exist_ok=True)\n",
    "print(\"MintPy directory:\", mintpy_dir)\n",
    "\n",
    "# Configuration file\n",
    "config_file = Path(mintpy_dir)/(sitedata['sites'][site]['calval_location'] + '.cfg')"
   ]
  },
  {
   "cell_type": "markdown",
   "id": "f1a50541-6604-400f-ac7e-c14361dc8dec",
   "metadata": {
    "tags": []
   },
   "source": [
    "### Authentication <a id='set_authentication'></a>"
   ]
  },
  {
   "cell_type": "code",
   "execution_count": null,
   "id": "e1328ea4-a4a3-452d-905e-0e4f3c5d795c",
   "metadata": {
    "tags": []
   },
   "outputs": [],
   "source": [
    "# Earthdata login to download GUNWs\n",
    "fnetrc = '/home/jovyan/.netrc'\n",
    "earthdata = False\n",
    "if os.path.exists(fnetrc):\n",
    "    os.system('chmod 0600 ' + fnetrc)\n",
    "    remoteHostName  = \"urs.earthdata.nasa.gov\"\n",
    "    netrc = netrc.netrc()\n",
    "    with open(fnetrc) as file:\n",
    "        if remoteHostName in file.read():\n",
    "            authTokens = netrc.authenticators(remoteHostName)\n",
    "            earthdata_user = authTokens[0]\n",
    "            earthdata_password = authTokens[2]\n",
    "            earthdata = True          \n",
    "if not earthdata:             \n",
    "    print('NEEDED to Download ARIA GUNWs: \\n Link to create account : https://urs.earthdata.nasa.gov/')\n",
    "    earthdata_user = input('Please type your Earthdata username:')\n",
    "    earthdata_password = input('Please type your Earthdata password:')\n",
    "    with open(fnetrc, 'a') as file:\n",
    "        file.write('machine urs.earthdata.nasa.gov\\n')\n",
    "        file.write('login ' + earthdata_user + '\\n')\n",
    "        file.write('password ' + earthdata_password)\n",
    "        os.system('chmod 0600 ' + fnetrc)\n",
    "\n",
    "# OpenTopography login to download DEMs\n",
    "fopentopo = '/home/jovyan/.topoapi'\n",
    "if os.path.exists(fopentopo):\n",
    "    os.system('chmod 0600 ' + fopentopo)\n",
    "    with open(fopentopo) as file:\n",
    "        opentopography_api_key = file.read()\n",
    "else:   \n",
    "    print('NEEDED To Download DEMs: \\n Link to get API Key : https://portal.opentopography.org/login' + \n",
    "     '\\n Goto: My Account > myOpenTopo Authorizations and API Key > Request API key')\n",
    "    opentopography_api_key = input('Please type your OpenTopo API key:')\n",
    "    with open(fopentopo, 'a') as file:\n",
    "        file.write(opentopography_api_key)\n",
    "        os.system('chmod 0600 ' + fopentopo)"
   ]
  },
  {
   "cell_type": "markdown",
   "id": "b939e0c7-6b25-488a-a4b6-c5fc72b3a7de",
   "metadata": {},
   "source": [
    "<br>\n",
    "<hr>\n",
    "\n",
    "<a id='prep_ifg'></a>\n",
    "## 1. Download and Prepare Interferograms\n",
    "\n",
    "In this initial processing step, all the necessary Level-2 unwrapped interferogram products are gathered, organized and reduced to a common grid for analysis with MintPy. Ascending and descending stacks of nearest-neighbor and skip-1 interferograms will be prepared for independent analysis. We use the open-source ARIA-tools package to download processed L2 interferograms over selected cal/val regions from the Alaska Satellite Facility archive and to stitch/crop the frame-based NISAR GUNW products to stacks that can be directly ingested into MintPy for time-series processing. ARIA-tools uses a phase-minimization approach in the product overlap region to stitch the unwrapped and ionospheric phase, a mosaicing approach for coherence and amplitude, and extracts the geometric information from the 3D data cubes through a mosaicking of the 3D datacubes and subsequent intersection with a DEM.\n",
    "\n",
    "REFERENCE: https://github.com/aria-tools/ARIA-tools"
   ]
  },
  {
   "cell_type": "markdown",
   "id": "6d34d6ea-49df-4a6f-acc5-6655b55e12a2",
   "metadata": {},
   "source": [
    "### 1.1. Download GUNW Interferograms <a id='prep_download_ifg'></a>"
   ]
  },
  {
   "cell_type": "code",
   "execution_count": null,
   "id": "02993248-e7e4-43f5-ae5c-3bf906d361f7",
   "metadata": {
    "tags": []
   },
   "outputs": [],
   "source": [
    "print('CalVal site: {}\\n'.format(site))\n",
    "\n",
    "# Make ARIA_download command\n",
    "aria_download = '''ariaDownload.py --num_threads 16 -b {bbox} -u {user} -p {password} -s {start}  -e {end} \\\n",
    "    -t {track} --workdir {workdir} --version {version} -o Count'''\n",
    "command = aria_download.format(bbox = sitedata['sites'][site]['download_region'],\n",
    "                               start = sitedata['sites'][site]['download_start_date'],\n",
    "                               end = sitedata['sites'][site]['download_end_date'],\n",
    "                               track = sitedata['sites'][site]['sentinel_track'],\n",
    "                               version = aria_gunw_version, \n",
    "                               workdir = gunw_dir, \n",
    "                               user = earthdata_user,\n",
    "                               password = earthdata_password)\n",
    "\n",
    "# Search for GUNW products\n",
    "print('   Searching for available GUNW products:\\n')\n",
    "process = subprocess.run(command, stdout=subprocess.PIPE, stderr=subprocess.PIPE, text = True, shell = True)\n",
    "print(process.stdout, process.stderr)\n",
    "\n",
    "# Download GUNW products\n",
    "print('   Downloading GUNW files\\n')\n",
    "os.system(command.split(' -o')[0])\n",
    "\n",
    "# Cleaning unnecessary files\n",
    "data_to_clean = [\"avg_rates.csv\", \"ASFDataDload0.py\", \"AvgDlSpeed.png\", \"error.log\"]\n",
    "for i, file in enumerate(data_to_clean):\n",
    "    if os.path.exists(os.path.join(gunw_dir,file)):\n",
    "        print('Cleaning file {}'.format(file))\n",
    "        os.unlink(os.path.join(gunw_dir,file))\n",
    "        os.unlink(os.path.join(work_dir,file))"
   ]
  },
  {
   "cell_type": "markdown",
   "id": "df51f44d-b58d-4862-885c-180e8e5c3df6",
   "metadata": {
    "tags": []
   },
   "source": [
    "### 1.2. Crop Interferograms <a id='prep_crop_ifg'></a>"
   ]
  },
  {
   "cell_type": "code",
   "execution_count": null,
   "id": "aa49e37b-7f04-47ee-b9a6-c46c6bb80bc3",
   "metadata": {
    "tags": []
   },
   "outputs": [],
   "source": [
    "# Crop Interferograms to Analysis Region\n",
    "os.chdir(work_dir)\n",
    "mask_file = 'auto'\n",
    "product_glob = '\"'+os.path.join(work_dir,'products','*.nc')+'\"'\n",
    "\n",
    "# Set up ARIA product and mask data with GSHHS water mask:\n",
    "if not os.path.exists(os.path.join(work_dir,'stack')):\n",
    "    if not os.path.exists('/home/jovyan/.topoapi'): # if OpenTopo API key not already installed\n",
    "        os.system('echo \"{api_key}\" > /home/jovyan/.topoapi; chmod 600 /home/jovyan/.topoapi'.format(api_key = str(opentopography_api_key)))\n",
    "    print('Preparing GUNWs for MintPY....')\n",
    "    if sitedata['sites'][site]['maskWater'] != 'False':\n",
    "        mask_file = '../mask/watermask.msk'\n",
    "        command = 'ariaTSsetup.py -f ' + product_glob + ' -b ' + sitedata['sites'][site]['analysis_region'] + ' --mask Download  --croptounion --verbose' # slow\n",
    "    else: # skip slow mask download when we don't need to mask water\n",
    "        command = 'ariaTSsetup.py -f ' + product_glob + ' -b ' + sitedata['sites'][site]['analysis_region'] + ' --croptounion --verbose'\n",
    "\n",
    "    # Crop and prepare stack\n",
    "    print(command)\n",
    "    os.system(command)\n",
    "    print('Finished preparing GUNWs for MintPy!!')"
   ]
  },
  {
   "cell_type": "markdown",
   "id": "ac53015f-e3d6-4ba7-8550-9ced8b2584ab",
   "metadata": {
    "tags": []
   },
   "source": [
    "### 1.3. Set Up MintPy Configuration file <a id='prep_setup_config'></a>\n",
    "\n",
    "The default processing parameters for MintPy's **smallbaselineApp.py** need to be modified by including the following lines in config_file (which must be manually created and placed into mint_dir):\n",
    "\n",
    "- mintpy.load.processor      = aria\n",
    "- mintpy.load.unwFile        = ../stack/unwrapStack.vrt\n",
    "- mintpy.load.corFile        = ../stack/cohStack.vrt\n",
    "- mintpy.load.connCompFile   = ../stack/connCompStack.vrt\n",
    "- mintpy.load.demFile        = ../DEM/SRTM_3arcsec.dem\n",
    "- mintpy.load.incAngleFile   = ../incidenceAngle/{download_start_date}_{download_edn_date}.vrt\n",
    "- mintpy.load.azAngleFile    = ../azimuthAngle/{download_start_date}_{download_edn_date}.vrt\n",
    "- mintpy.load.waterMaskFile  = ../mask/watermask.msk\n",
    "- mintpy.reference.lalo      = auto, or somewhere in your bounding box\n",
    "- mintpy.topographicResidual.pixelwiseGeometry = no\n",
    "- mintpy.troposphericDelay.method              = no\n",
    "- mintpy.topographicResidual                   = no"
   ]
  },
  {
   "cell_type": "code",
   "execution_count": null,
   "id": "0f1e01b2-91ea-48fa-8a0f-69f58303d9d2",
   "metadata": {
    "tags": []
   },
   "outputs": [],
   "source": [
    "os.chdir(mintpy_dir)\n",
    "\n",
    "# Write smallbaseline.py config file\n",
    "config_file_content = \"\"\"\n",
    "mintpy.load.processor = aria\n",
    "mintpy.compute.numWorker = auto\n",
    "mintpy.load.unwFile = {wd}/stack/unwrapStack.vrt\n",
    "mintpy.load.corFile = {wd}/stack/cohStack.vrt\n",
    "mintpy.load.connCompFile = {wd}/stack/connCompStack.vrt\n",
    "mintpy.load.demFile = {wd}/DEM/glo_90.dem\n",
    "mintpy.load.incAngleFile = {wd}/incidenceAngle/*.vrt\n",
    "mintpy.load.azAngleFile = {wd}/azimuthAngle/*.vrt\n",
    "mintpy.load.waterMaskFile = {mask_file}\n",
    "mintpy.topographicResidual.pixelwiseGeometry = no\n",
    "mintpy.troposphericDelay.method = no\n",
    "mintpy.topographicResidual = no\n",
    "mintpy.network.tempBaseMax = {tempmax}\n",
    "mintpy.network.startDate = {startdatenet}\n",
    "mintpy.network.endDate = {enddatenet}\n",
    "mintpy.velocity.startDate = {startdatevel}\n",
    "mintpy.velocity.endDate = {enddatevel}\n",
    "mintpy.reference.lalo = {reference_lalo}\n",
    "mintpy.network.excludeIfgIndex = {excludeIfg}\"\"\".format(wd = work_dir,\n",
    "                                                        mask_file = mask_file,\n",
    "                                                        tempmax=sitedata['sites'][site]['tempBaseMax'],\n",
    "                                                        excludeIfg=sitedata['sites'][site]['ifgExcludeList'],\n",
    "                                                        startdatenet=sitedata['sites'][site]['download_start_date'],\n",
    "                                                        enddatenet=sitedata['sites'][site]['download_end_date'],\n",
    "                                                        startdatevel=sitedata['sites'][site]['download_start_date'],\n",
    "                                                        enddatevel=sitedata['sites'][site]['download_end_date'],\n",
    "                                                        reference_lalo=sitedata['sites'][site]['reference_lalo'])\n",
    "\n",
    "config_file.write_text(config_file_content)\n",
    "print('MintPy config file:\\n    {}'.format(config_file))\n",
    "print(config_file.read_text())"
   ]
  },
  {
   "cell_type": "markdown",
   "id": "0de4a38e-60f3-421b-949f-aff1145e5881",
   "metadata": {},
   "source": [
    "### 1.4. Load Data into MintPy Cubes <a id='prep_load_data'></a>\n",
    "\n",
    "The output of this step is an \"inputs\" directory in 'calval_directory/calval_location/MintPy/\" containing two HDF5 files:\n",
    "- ifgramStack.h5: This file contains 6 dataset cubes (e.g. unwrapped phase, coherence, connected components etc.) and multiple metadata\n",
    "- geometryGeo.h5: This file contains geometrical datasets (e.g., incidence/azimuth angle, masks, etc.)"
   ]
  },
  {
   "cell_type": "code",
   "execution_count": null,
   "id": "300656a7-ccc6-469c-a9db-6fa68adc8f00",
   "metadata": {
    "tags": []
   },
   "outputs": [],
   "source": [
    "command = 'smallbaselineApp.py ' + str(config_file) + ' --dostep load_data'\n",
    "process = subprocess.run(command, shell=True)\n",
    "print('Mintpy input files:')\n",
    "[x for x in os.listdir('inputs') if x.endswith('.h5')]"
   ]
  },
  {
   "cell_type": "markdown",
   "id": "7401afd1-f04e-4c25-b1aa-e78ab871dd1f",
   "metadata": {},
   "source": [
    "### 1.5. Clean up <a id='prep_clean_up'></a>\n",
    "\n",
    "Remove downloaded files if desired"
   ]
  },
  {
   "cell_type": "code",
   "execution_count": null,
   "id": "b5bb17d4-9f68-4721-b91d-36ef4fca2bda",
   "metadata": {
    "tags": []
   },
   "outputs": [],
   "source": [
    "print('Now that you have successfully created the MintPy data cube, you may want to clean up the downloaded products')\n",
    "cleanup = input('Please type \"Yes\" if you want to delete the files in the \"products\" directory:')\n",
    "if cleanup == \"Yes\" or cleanup == \"YES\" or cleanup == \"yes\":\n",
    "    import shutil\n",
    "    shutil.rmtree(gunw_dir)\n",
    "elif cleanup == \"No\" or cleanup == \"NO\" or cleanup == \"no\":\n",
    "    print('Keeping your downloaded files')\n",
    "else: \n",
    "    print('ERROR: Please try again. Type \"Yes\" or \"No\"')"
   ]
  }
 ],
 "metadata": {
  "kernelspec": {
   "display_name": "solid_earth_atbd",
   "language": "python",
   "name": "solid_earth_atbd"
  },
  "language_info": {
   "codemirror_mode": {
    "name": "ipython",
    "version": 3
   },
   "file_extension": ".py",
   "mimetype": "text/x-python",
   "name": "python",
   "nbconvert_exporter": "python",
   "pygments_lexer": "ipython3",
   "version": "3.12.4"
  }
 },
 "nbformat": 4,
 "nbformat_minor": 5
}
